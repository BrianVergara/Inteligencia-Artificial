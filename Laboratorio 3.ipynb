{
 "cells": [
  {
   "cell_type": "markdown",
   "id": "76bc2073-c8ac-4146-ad0f-6eb541656bf4",
   "metadata": {},
   "source": [
    "### Desafíos \n",
    "\n",
    "Para profundizar su comprensión sobre cómo los diferentes parámetros y configuraciones afectan el rendimiento del modelo, complete los siguientes desafíos:\n",
    "\n",
    "#### Desafío 1: Cambiar la Tasa de Aprendizaje del Optimizador Adam\n",
    "\n",
    "El optimizador Adam tiene una tasa de aprendizaje por defecto de 0.001. Intente cambiar esta tasa de aprendizaje a diferentes valores y observe cómo afecta el rendimiento del modelo.\n",
    "\n",
    "1. Cambie la tasa de aprendizaje a 0.01:\n",
    " \n",
    "\n",
    "2. Cambie la tasa de aprendizaje a 0.0001:\n",
    "\n",
    "**Pregunta:**\n",
    "- ¿Cómo afecta cada cambio en la tasa de aprendizaje a la precisión y la pérdida del modelo durante el entrenamiento y la validación?\n",
    "\n",
    "#### Desafío 2: Modificar el Número de Neuronas en las Capas Ocultas\n",
    "\n",
    " Intente cambiar el numero de neuronas del modelo acutual y observe cómo afecta el rendimiento del modelo.\n",
    "\n",
    "1. Cambie el número de neuronas a 256 en cada capa oculta:\n",
    " \n",
    "2. Cambie el número de neuronas a 1024 en cada capa oculta:\n",
    "\n",
    "**Pregunta:**\n",
    "- ¿Cómo cambia la precisión y la pérdida del modelo con diferentes números de neuronas en las capas ocultas?\n",
    "\n",
    "#### Desafío 3: Cambiar la Cantidad de Épocas de Entrenamiento\n",
    "\n",
    "El modelo actual se entrena durante 20 épocas. Intente cambiar el número de épocas de entrenamiento y observe cómo afecta el rendimiento del modelo.\n",
    "\n",
    "1. Cambie el número de épocas a 10:\n",
    "\n",
    "\n",
    "2. Cambie el número de épocas a 30:\n",
    " \n",
    "**Pregunta:**\n",
    "- ¿Cómo afecta el número de épocas a la precisión y la pérdida del modelo durante el entrenamiento y la validación? ¿Observa algún signo de sobreajuste o subajuste?\n",
    "\n",
    "#### Desafío 4: Modificar la Función de Activación en las Capas Ocultas\n",
    "\n",
    "El modelo actual utiliza la función de activación ReLU en las capas ocultas. Intente usar una función de activación diferente y observe cómo afecta el rendimiento del modelo.\n",
    "\n",
    "1. Cambie la función de activación a `sigmoid`:\n",
    "\n",
    "\n",
    "2. Cambie la función de activación a `tanh`:\n",
    "\n",
    "\n",
    "**Pregunta:**\n",
    "- ¿Cómo afectan las diferentes funciones de activación en las capas ocultas a la precisión y la pérdida del modelo durante el entrenamiento y la validación?\n",
    "\n"
   ]
  },
  {
   "cell_type": "markdown",
   "id": "6d2811a2",
   "metadata": {},
   "source": [
    "# Desafio 1"
   ]
  },
  {
   "cell_type": "code",
   "execution_count": 3,
   "id": "ad8445b0",
   "metadata": {},
   "outputs": [],
   "source": [
    "import numpy as np\n",
    "import tensorflow as tf\n",
    "from tensorflow.keras.models import Sequential\n",
    "from tensorflow.keras.layers import Dense, Dropout\n",
    "from tensorflow.keras.optimizers import Adam\n",
    "from tensorflow.keras.utils import to_categorical\n",
    "from tensorflow.keras.regularizers import l2\n",
    "from sklearn.model_selection import train_test_split\n",
    "from sklearn.datasets import load_iris\n",
    "import matplotlib.pyplot as plt"
   ]
  },
  {
   "cell_type": "code",
   "execution_count": 4,
   "id": "c00e2d96",
   "metadata": {},
   "outputs": [],
   "source": [
    "# Configuración para mostrar gráficos en Jupyter Notebook\n",
    "%matplotlib inline"
   ]
  },
  {
   "cell_type": "code",
   "execution_count": 5,
   "id": "0d7248ae",
   "metadata": {},
   "outputs": [],
   "source": [
    "# Cargar el conjunto de datos Iris\n",
    "data = load_iris()\n",
    "X = data.data\n",
    "y = data.target\n",
    "y = to_categorical(y)"
   ]
  },
  {
   "cell_type": "code",
   "execution_count": 6,
   "id": "c861b3bd",
   "metadata": {},
   "outputs": [],
   "source": [
    "# Dividir los datos en conjuntos de entrenamiento y prueba\n",
    "X_train, X_test, y_train, y_test = train_test_split(X, y, test_size=0.2, random_state=42)"
   ]
  },
  {
   "cell_type": "markdown",
   "id": "4bc38aef",
   "metadata": {},
   "source": [
    "# Configuración y Entrenamiento con tasa de aprendizaje 0.01"
   ]
  },
  {
   "cell_type": "code",
   "execution_count": 7,
   "id": "eb912671",
   "metadata": {},
   "outputs": [
    {
     "name": "stderr",
     "output_type": "stream",
     "text": [
      "C:\\Users\\bverg\\anaconda3\\Lib\\site-packages\\keras\\src\\layers\\core\\dense.py:87: UserWarning: Do not pass an `input_shape`/`input_dim` argument to a layer. When using Sequential models, prefer using an `Input(shape)` object as the first layer in the model instead.\n",
      "  super().__init__(activity_regularizer=activity_regularizer, **kwargs)\n"
     ]
    }
   ],
   "source": [
    "# Crear el modelo MLP con Dropout + Regularización L2\n",
    "model_lr_01 = Sequential()\n",
    "model_lr_01.add(Dense(10, input_dim=4, activation='relu', kernel_regularizer=l2(0.01)))\n",
    "model_lr_01.add(Dropout(0.5))\n",
    "model_lr_01.add(Dense(10, activation='relu', kernel_regularizer=l2(0.01)))\n",
    "model_lr_01.add(Dropout(0.5))\n",
    "model_lr_01.add(Dense(10, activation='relu', kernel_regularizer=l2(0.01)))\n",
    "model_lr_01.add(Dropout(0.5))\n",
    "model_lr_01.add(Dense(3, activation='softmax'))"
   ]
  },
  {
   "cell_type": "code",
   "execution_count": 8,
   "id": "5b8cc67e",
   "metadata": {},
   "outputs": [],
   "source": [
    "# Compilar el modelo con tasa de aprendizaje 0.01\n",
    "optimizer_01 = Adam(learning_rate=0.01)\n",
    "model_lr_01.compile(optimizer=optimizer_01, loss='categorical_crossentropy', metrics=['accuracy'])"
   ]
  },
  {
   "cell_type": "code",
   "execution_count": 17,
   "id": "98728527",
   "metadata": {},
   "outputs": [
    {
     "name": "stdout",
     "output_type": "stream",
     "text": [
      "Epoch 1/50\n",
      "\u001b[1m22/22\u001b[0m \u001b[32m━━━━━━━━━━━━━━━━━━━━\u001b[0m\u001b[37m\u001b[0m \u001b[1m0s\u001b[0m 4ms/step - accuracy: 0.4617 - loss: 0.9011 - val_accuracy: 0.5833 - val_loss: 0.8320\n",
      "Epoch 2/50\n",
      "\u001b[1m22/22\u001b[0m \u001b[32m━━━━━━━━━━━━━━━━━━━━\u001b[0m\u001b[37m\u001b[0m \u001b[1m0s\u001b[0m 2ms/step - accuracy: 0.5303 - loss: 0.9154 - val_accuracy: 0.5833 - val_loss: 0.8171\n",
      "Epoch 3/50\n",
      "\u001b[1m22/22\u001b[0m \u001b[32m━━━━━━━━━━━━━━━━━━━━\u001b[0m\u001b[37m\u001b[0m \u001b[1m0s\u001b[0m 2ms/step - accuracy: 0.3760 - loss: 1.0327 - val_accuracy: 0.5833 - val_loss: 0.8368\n",
      "Epoch 4/50\n",
      "\u001b[1m22/22\u001b[0m \u001b[32m━━━━━━━━━━━━━━━━━━━━\u001b[0m\u001b[37m\u001b[0m \u001b[1m0s\u001b[0m 3ms/step - accuracy: 0.5009 - loss: 0.9189 - val_accuracy: 0.5833 - val_loss: 0.8315\n",
      "Epoch 5/50\n",
      "\u001b[1m22/22\u001b[0m \u001b[32m━━━━━━━━━━━━━━━━━━━━\u001b[0m\u001b[37m\u001b[0m \u001b[1m0s\u001b[0m 3ms/step - accuracy: 0.5445 - loss: 0.9153 - val_accuracy: 0.5833 - val_loss: 0.8298\n",
      "Epoch 6/50\n",
      "\u001b[1m22/22\u001b[0m \u001b[32m━━━━━━━━━━━━━━━━━━━━\u001b[0m\u001b[37m\u001b[0m \u001b[1m0s\u001b[0m 3ms/step - accuracy: 0.4917 - loss: 0.8893 - val_accuracy: 0.5833 - val_loss: 0.8215\n",
      "Epoch 7/50\n",
      "\u001b[1m22/22\u001b[0m \u001b[32m━━━━━━━━━━━━━━━━━━━━\u001b[0m\u001b[37m\u001b[0m \u001b[1m0s\u001b[0m 3ms/step - accuracy: 0.5915 - loss: 0.8854 - val_accuracy: 0.5833 - val_loss: 0.8205\n",
      "Epoch 8/50\n",
      "\u001b[1m22/22\u001b[0m \u001b[32m━━━━━━━━━━━━━━━━━━━━\u001b[0m\u001b[37m\u001b[0m \u001b[1m0s\u001b[0m 3ms/step - accuracy: 0.5172 - loss: 0.9319 - val_accuracy: 0.5833 - val_loss: 0.8239\n",
      "Epoch 9/50\n",
      "\u001b[1m22/22\u001b[0m \u001b[32m━━━━━━━━━━━━━━━━━━━━\u001b[0m\u001b[37m\u001b[0m \u001b[1m0s\u001b[0m 3ms/step - accuracy: 0.5045 - loss: 0.9024 - val_accuracy: 0.5833 - val_loss: 0.8205\n",
      "Epoch 10/50\n",
      "\u001b[1m22/22\u001b[0m \u001b[32m━━━━━━━━━━━━━━━━━━━━\u001b[0m\u001b[37m\u001b[0m \u001b[1m0s\u001b[0m 3ms/step - accuracy: 0.4389 - loss: 0.9526 - val_accuracy: 0.5833 - val_loss: 0.8099\n",
      "Epoch 11/50\n",
      "\u001b[1m22/22\u001b[0m \u001b[32m━━━━━━━━━━━━━━━━━━━━\u001b[0m\u001b[37m\u001b[0m \u001b[1m0s\u001b[0m 3ms/step - accuracy: 0.5492 - loss: 0.9268 - val_accuracy: 0.5833 - val_loss: 0.8208\n",
      "Epoch 12/50\n",
      "\u001b[1m22/22\u001b[0m \u001b[32m━━━━━━━━━━━━━━━━━━━━\u001b[0m\u001b[37m\u001b[0m \u001b[1m0s\u001b[0m 3ms/step - accuracy: 0.3595 - loss: 1.0416 - val_accuracy: 0.5833 - val_loss: 0.8539\n",
      "Epoch 13/50\n",
      "\u001b[1m22/22\u001b[0m \u001b[32m━━━━━━━━━━━━━━━━━━━━\u001b[0m\u001b[37m\u001b[0m \u001b[1m0s\u001b[0m 3ms/step - accuracy: 0.4937 - loss: 0.9135 - val_accuracy: 0.5833 - val_loss: 0.8157\n",
      "Epoch 14/50\n",
      "\u001b[1m22/22\u001b[0m \u001b[32m━━━━━━━━━━━━━━━━━━━━\u001b[0m\u001b[37m\u001b[0m \u001b[1m0s\u001b[0m 3ms/step - accuracy: 0.5579 - loss: 0.8835 - val_accuracy: 0.5833 - val_loss: 0.8090\n",
      "Epoch 15/50\n",
      "\u001b[1m22/22\u001b[0m \u001b[32m━━━━━━━━━━━━━━━━━━━━\u001b[0m\u001b[37m\u001b[0m \u001b[1m0s\u001b[0m 3ms/step - accuracy: 0.5381 - loss: 0.9660 - val_accuracy: 0.5833 - val_loss: 0.8135\n",
      "Epoch 16/50\n",
      "\u001b[1m22/22\u001b[0m \u001b[32m━━━━━━━━━━━━━━━━━━━━\u001b[0m\u001b[37m\u001b[0m \u001b[1m0s\u001b[0m 3ms/step - accuracy: 0.4859 - loss: 0.9256 - val_accuracy: 0.5833 - val_loss: 0.8184\n",
      "Epoch 17/50\n",
      "\u001b[1m22/22\u001b[0m \u001b[32m━━━━━━━━━━━━━━━━━━━━\u001b[0m\u001b[37m\u001b[0m \u001b[1m0s\u001b[0m 2ms/step - accuracy: 0.4639 - loss: 0.9331 - val_accuracy: 0.5833 - val_loss: 0.8391\n",
      "Epoch 18/50\n",
      "\u001b[1m22/22\u001b[0m \u001b[32m━━━━━━━━━━━━━━━━━━━━\u001b[0m\u001b[37m\u001b[0m \u001b[1m0s\u001b[0m 3ms/step - accuracy: 0.4434 - loss: 0.9735 - val_accuracy: 0.5833 - val_loss: 0.8188\n",
      "Epoch 19/50\n",
      "\u001b[1m22/22\u001b[0m \u001b[32m━━━━━━━━━━━━━━━━━━━━\u001b[0m\u001b[37m\u001b[0m \u001b[1m0s\u001b[0m 3ms/step - accuracy: 0.4411 - loss: 0.9379 - val_accuracy: 0.5833 - val_loss: 0.8221\n",
      "Epoch 20/50\n",
      "\u001b[1m22/22\u001b[0m \u001b[32m━━━━━━━━━━━━━━━━━━━━\u001b[0m\u001b[37m\u001b[0m \u001b[1m0s\u001b[0m 3ms/step - accuracy: 0.4897 - loss: 0.9438 - val_accuracy: 0.5833 - val_loss: 0.8298\n",
      "Epoch 21/50\n",
      "\u001b[1m22/22\u001b[0m \u001b[32m━━━━━━━━━━━━━━━━━━━━\u001b[0m\u001b[37m\u001b[0m \u001b[1m0s\u001b[0m 3ms/step - accuracy: 0.4652 - loss: 0.9964 - val_accuracy: 0.5833 - val_loss: 0.8685\n",
      "Epoch 22/50\n",
      "\u001b[1m22/22\u001b[0m \u001b[32m━━━━━━━━━━━━━━━━━━━━\u001b[0m\u001b[37m\u001b[0m \u001b[1m0s\u001b[0m 3ms/step - accuracy: 0.5145 - loss: 0.9153 - val_accuracy: 0.5833 - val_loss: 0.8545\n",
      "Epoch 23/50\n",
      "\u001b[1m22/22\u001b[0m \u001b[32m━━━━━━━━━━━━━━━━━━━━\u001b[0m\u001b[37m\u001b[0m \u001b[1m0s\u001b[0m 3ms/step - accuracy: 0.4189 - loss: 1.0399 - val_accuracy: 0.5833 - val_loss: 0.8768\n",
      "Epoch 24/50\n",
      "\u001b[1m22/22\u001b[0m \u001b[32m━━━━━━━━━━━━━━━━━━━━\u001b[0m\u001b[37m\u001b[0m \u001b[1m0s\u001b[0m 3ms/step - accuracy: 0.4810 - loss: 1.0628 - val_accuracy: 0.5833 - val_loss: 0.8560\n",
      "Epoch 25/50\n",
      "\u001b[1m22/22\u001b[0m \u001b[32m━━━━━━━━━━━━━━━━━━━━\u001b[0m\u001b[37m\u001b[0m \u001b[1m0s\u001b[0m 4ms/step - accuracy: 0.5068 - loss: 0.9367 - val_accuracy: 0.5833 - val_loss: 0.8449\n",
      "Epoch 26/50\n",
      "\u001b[1m22/22\u001b[0m \u001b[32m━━━━━━━━━━━━━━━━━━━━\u001b[0m\u001b[37m\u001b[0m \u001b[1m0s\u001b[0m 4ms/step - accuracy: 0.5262 - loss: 0.9314 - val_accuracy: 0.5833 - val_loss: 0.8400\n",
      "Epoch 27/50\n",
      "\u001b[1m22/22\u001b[0m \u001b[32m━━━━━━━━━━━━━━━━━━━━\u001b[0m\u001b[37m\u001b[0m \u001b[1m0s\u001b[0m 3ms/step - accuracy: 0.5498 - loss: 0.9043 - val_accuracy: 0.5833 - val_loss: 0.8295\n",
      "Epoch 28/50\n",
      "\u001b[1m22/22\u001b[0m \u001b[32m━━━━━━━━━━━━━━━━━━━━\u001b[0m\u001b[37m\u001b[0m \u001b[1m0s\u001b[0m 3ms/step - accuracy: 0.5088 - loss: 0.9089 - val_accuracy: 0.5833 - val_loss: 0.8176\n",
      "Epoch 29/50\n",
      "\u001b[1m22/22\u001b[0m \u001b[32m━━━━━━━━━━━━━━━━━━━━\u001b[0m\u001b[37m\u001b[0m \u001b[1m0s\u001b[0m 3ms/step - accuracy: 0.4797 - loss: 0.9139 - val_accuracy: 0.5833 - val_loss: 0.8140\n",
      "Epoch 30/50\n",
      "\u001b[1m22/22\u001b[0m \u001b[32m━━━━━━━━━━━━━━━━━━━━\u001b[0m\u001b[37m\u001b[0m \u001b[1m0s\u001b[0m 3ms/step - accuracy: 0.4385 - loss: 0.9885 - val_accuracy: 0.5833 - val_loss: 0.8113\n",
      "Epoch 31/50\n",
      "\u001b[1m22/22\u001b[0m \u001b[32m━━━━━━━━━━━━━━━━━━━━\u001b[0m\u001b[37m\u001b[0m \u001b[1m0s\u001b[0m 4ms/step - accuracy: 0.4904 - loss: 0.9763 - val_accuracy: 0.5833 - val_loss: 0.8183\n",
      "Epoch 32/50\n",
      "\u001b[1m22/22\u001b[0m \u001b[32m━━━━━━━━━━━━━━━━━━━━\u001b[0m\u001b[37m\u001b[0m \u001b[1m0s\u001b[0m 3ms/step - accuracy: 0.5067 - loss: 0.9050 - val_accuracy: 0.5833 - val_loss: 0.8120\n",
      "Epoch 33/50\n",
      "\u001b[1m22/22\u001b[0m \u001b[32m━━━━━━━━━━━━━━━━━━━━\u001b[0m\u001b[37m\u001b[0m \u001b[1m0s\u001b[0m 3ms/step - accuracy: 0.5354 - loss: 0.8912 - val_accuracy: 0.5833 - val_loss: 0.8160\n",
      "Epoch 34/50\n",
      "\u001b[1m22/22\u001b[0m \u001b[32m━━━━━━━━━━━━━━━━━━━━\u001b[0m\u001b[37m\u001b[0m \u001b[1m0s\u001b[0m 3ms/step - accuracy: 0.5382 - loss: 0.8406 - val_accuracy: 0.5833 - val_loss: 0.8135\n",
      "Epoch 35/50\n",
      "\u001b[1m22/22\u001b[0m \u001b[32m━━━━━━━━━━━━━━━━━━━━\u001b[0m\u001b[37m\u001b[0m \u001b[1m0s\u001b[0m 3ms/step - accuracy: 0.4763 - loss: 0.9012 - val_accuracy: 0.5833 - val_loss: 0.8185\n",
      "Epoch 36/50\n",
      "\u001b[1m22/22\u001b[0m \u001b[32m━━━━━━━━━━━━━━━━━━━━\u001b[0m\u001b[37m\u001b[0m \u001b[1m0s\u001b[0m 3ms/step - accuracy: 0.4853 - loss: 0.9495 - val_accuracy: 0.5833 - val_loss: 0.8174\n",
      "Epoch 37/50\n",
      "\u001b[1m22/22\u001b[0m \u001b[32m━━━━━━━━━━━━━━━━━━━━\u001b[0m\u001b[37m\u001b[0m \u001b[1m0s\u001b[0m 3ms/step - accuracy: 0.5097 - loss: 0.8865 - val_accuracy: 0.5833 - val_loss: 0.8072\n",
      "Epoch 38/50\n",
      "\u001b[1m22/22\u001b[0m \u001b[32m━━━━━━━━━━━━━━━━━━━━\u001b[0m\u001b[37m\u001b[0m \u001b[1m0s\u001b[0m 2ms/step - accuracy: 0.4760 - loss: 1.0031 - val_accuracy: 0.5833 - val_loss: 0.8626\n",
      "Epoch 39/50\n",
      "\u001b[1m22/22\u001b[0m \u001b[32m━━━━━━━━━━━━━━━━━━━━\u001b[0m\u001b[37m\u001b[0m \u001b[1m0s\u001b[0m 3ms/step - accuracy: 0.3786 - loss: 0.9459 - val_accuracy: 0.5833 - val_loss: 0.8332\n",
      "Epoch 40/50\n",
      "\u001b[1m22/22\u001b[0m \u001b[32m━━━━━━━━━━━━━━━━━━━━\u001b[0m\u001b[37m\u001b[0m \u001b[1m0s\u001b[0m 3ms/step - accuracy: 0.5753 - loss: 0.8374 - val_accuracy: 0.5833 - val_loss: 0.7927\n",
      "Epoch 41/50\n",
      "\u001b[1m22/22\u001b[0m \u001b[32m━━━━━━━━━━━━━━━━━━━━\u001b[0m\u001b[37m\u001b[0m \u001b[1m0s\u001b[0m 3ms/step - accuracy: 0.4607 - loss: 0.9376 - val_accuracy: 0.5833 - val_loss: 0.7930\n",
      "Epoch 42/50\n",
      "\u001b[1m22/22\u001b[0m \u001b[32m━━━━━━━━━━━━━━━━━━━━\u001b[0m\u001b[37m\u001b[0m \u001b[1m0s\u001b[0m 3ms/step - accuracy: 0.5230 - loss: 0.9181 - val_accuracy: 0.5833 - val_loss: 0.8207\n",
      "Epoch 43/50\n",
      "\u001b[1m22/22\u001b[0m \u001b[32m━━━━━━━━━━━━━━━━━━━━\u001b[0m\u001b[37m\u001b[0m \u001b[1m0s\u001b[0m 4ms/step - accuracy: 0.4961 - loss: 0.8108 - val_accuracy: 0.5833 - val_loss: 0.7942\n",
      "Epoch 44/50\n",
      "\u001b[1m22/22\u001b[0m \u001b[32m━━━━━━━━━━━━━━━━━━━━\u001b[0m\u001b[37m\u001b[0m \u001b[1m0s\u001b[0m 4ms/step - accuracy: 0.4468 - loss: 0.9820 - val_accuracy: 0.5833 - val_loss: 0.8066\n",
      "Epoch 45/50\n",
      "\u001b[1m22/22\u001b[0m \u001b[32m━━━━━━━━━━━━━━━━━━━━\u001b[0m\u001b[37m\u001b[0m \u001b[1m0s\u001b[0m 4ms/step - accuracy: 0.5328 - loss: 0.9401 - val_accuracy: 0.5833 - val_loss: 0.8157\n",
      "Epoch 46/50\n",
      "\u001b[1m22/22\u001b[0m \u001b[32m━━━━━━━━━━━━━━━━━━━━\u001b[0m\u001b[37m\u001b[0m \u001b[1m0s\u001b[0m 4ms/step - accuracy: 0.5680 - loss: 0.8718 - val_accuracy: 0.5833 - val_loss: 0.8066\n",
      "Epoch 47/50\n",
      "\u001b[1m22/22\u001b[0m \u001b[32m━━━━━━━━━━━━━━━━━━━━\u001b[0m\u001b[37m\u001b[0m \u001b[1m0s\u001b[0m 3ms/step - accuracy: 0.5403 - loss: 0.8918 - val_accuracy: 0.5833 - val_loss: 0.8294\n",
      "Epoch 48/50\n",
      "\u001b[1m22/22\u001b[0m \u001b[32m━━━━━━━━━━━━━━━━━━━━\u001b[0m\u001b[37m\u001b[0m \u001b[1m0s\u001b[0m 3ms/step - accuracy: 0.4781 - loss: 0.9530 - val_accuracy: 0.5833 - val_loss: 0.9353\n",
      "Epoch 49/50\n",
      "\u001b[1m22/22\u001b[0m \u001b[32m━━━━━━━━━━━━━━━━━━━━\u001b[0m\u001b[37m\u001b[0m \u001b[1m0s\u001b[0m 3ms/step - accuracy: 0.4394 - loss: 0.9175 - val_accuracy: 0.5833 - val_loss: 0.8067\n",
      "Epoch 50/50\n",
      "\u001b[1m22/22\u001b[0m \u001b[32m━━━━━━━━━━━━━━━━━━━━\u001b[0m\u001b[37m\u001b[0m \u001b[1m0s\u001b[0m 4ms/step - accuracy: 0.5116 - loss: 0.9368 - val_accuracy: 0.5833 - val_loss: 0.7980\n"
     ]
    }
   ],
   "source": [
    "# Entrenar el modelo\n",
    "history_lr_01 = model_lr_01.fit(X_train, y_train, epochs=50, batch_size=5, validation_split=0.1)"
   ]
  },
  {
   "cell_type": "code",
   "execution_count": 18,
   "id": "b2f25e02",
   "metadata": {},
   "outputs": [
    {
     "name": "stdout",
     "output_type": "stream",
     "text": [
      "\u001b[1m1/1\u001b[0m \u001b[32m━━━━━━━━━━━━━━━━━━━━\u001b[0m\u001b[37m\u001b[0m \u001b[1m0s\u001b[0m 14ms/step - accuracy: 0.6333 - loss: 0.6457\n",
      "Precisión en el conjunto de prueba (LR 0.01): 63.33%\n"
     ]
    }
   ],
   "source": [
    "# Evaluar el modelo\n",
    "loss_01, accuracy_01 = model_lr_01.evaluate(X_test, y_test)\n",
    "print(f'Precisión en el conjunto de prueba (LR 0.01): {accuracy_01 * 100:.2f}%')"
   ]
  },
  {
   "cell_type": "markdown",
   "id": "068c7ba0",
   "metadata": {},
   "source": [
    "# Configuración y Entrenamiento con tasa de aprendizaje 0.0001"
   ]
  },
  {
   "cell_type": "code",
   "execution_count": 11,
   "id": "5796d8c5",
   "metadata": {},
   "outputs": [],
   "source": [
    "# Crear el modelo MLP con Dropout + Regularización L2\n",
    "model_lr_0001 = Sequential()\n",
    "model_lr_0001.add(Dense(10, input_dim=4, activation='relu', kernel_regularizer=l2(0.01)))\n",
    "model_lr_0001.add(Dropout(0.5))\n",
    "model_lr_0001.add(Dense(10, activation='relu', kernel_regularizer=l2(0.01)))\n",
    "model_lr_0001.add(Dropout(0.5))\n",
    "model_lr_0001.add(Dense(10, activation='relu', kernel_regularizer=l2(0.01)))\n",
    "model_lr_0001.add(Dropout(0.5))\n",
    "model_lr_0001.add(Dense(3, activation='softmax'))"
   ]
  },
  {
   "cell_type": "code",
   "execution_count": 19,
   "id": "08d223b8",
   "metadata": {},
   "outputs": [],
   "source": [
    "# Compilar el modelo con tasa de aprendizaje 0.0001\n",
    "optimizer_0001 = Adam(learning_rate=0.0001)\n",
    "model_lr_0001.compile(optimizer=optimizer_0001, loss='categorical_crossentropy', metrics=['accuracy'])"
   ]
  },
  {
   "cell_type": "code",
   "execution_count": 27,
   "id": "622fcd47",
   "metadata": {},
   "outputs": [
    {
     "name": "stdout",
     "output_type": "stream",
     "text": [
      "Epoch 1/50\n",
      "\u001b[1m22/22\u001b[0m \u001b[32m━━━━━━━━━━━━━━━━━━━━\u001b[0m\u001b[37m\u001b[0m \u001b[1m0s\u001b[0m 4ms/step - accuracy: 0.4132 - loss: 1.1056 - val_accuracy: 0.7500 - val_loss: 1.0665\n",
      "Epoch 2/50\n",
      "\u001b[1m22/22\u001b[0m \u001b[32m━━━━━━━━━━━━━━━━━━━━\u001b[0m\u001b[37m\u001b[0m \u001b[1m0s\u001b[0m 3ms/step - accuracy: 0.4929 - loss: 1.0974 - val_accuracy: 0.7500 - val_loss: 1.0652\n",
      "Epoch 3/50\n",
      "\u001b[1m22/22\u001b[0m \u001b[32m━━━━━━━━━━━━━━━━━━━━\u001b[0m\u001b[37m\u001b[0m \u001b[1m0s\u001b[0m 3ms/step - accuracy: 0.4725 - loss: 1.0938 - val_accuracy: 0.7500 - val_loss: 1.0645\n",
      "Epoch 4/50\n",
      "\u001b[1m22/22\u001b[0m \u001b[32m━━━━━━━━━━━━━━━━━━━━\u001b[0m\u001b[37m\u001b[0m \u001b[1m0s\u001b[0m 3ms/step - accuracy: 0.4582 - loss: 1.0755 - val_accuracy: 0.8333 - val_loss: 1.0633\n",
      "Epoch 5/50\n",
      "\u001b[1m22/22\u001b[0m \u001b[32m━━━━━━━━━━━━━━━━━━━━\u001b[0m\u001b[37m\u001b[0m \u001b[1m0s\u001b[0m 3ms/step - accuracy: 0.6552 - loss: 0.9973 - val_accuracy: 0.8333 - val_loss: 1.0618\n",
      "Epoch 6/50\n",
      "\u001b[1m22/22\u001b[0m \u001b[32m━━━━━━━━━━━━━━━━━━━━\u001b[0m\u001b[37m\u001b[0m \u001b[1m0s\u001b[0m 3ms/step - accuracy: 0.4945 - loss: 1.1118 - val_accuracy: 0.7500 - val_loss: 1.0611\n",
      "Epoch 7/50\n",
      "\u001b[1m22/22\u001b[0m \u001b[32m━━━━━━━━━━━━━━━━━━━━\u001b[0m\u001b[37m\u001b[0m \u001b[1m0s\u001b[0m 3ms/step - accuracy: 0.5638 - loss: 1.0601 - val_accuracy: 0.8333 - val_loss: 1.0596\n",
      "Epoch 8/50\n",
      "\u001b[1m22/22\u001b[0m \u001b[32m━━━━━━━━━━━━━━━━━━━━\u001b[0m\u001b[37m\u001b[0m \u001b[1m0s\u001b[0m 3ms/step - accuracy: 0.5214 - loss: 1.0581 - val_accuracy: 0.8333 - val_loss: 1.0578\n",
      "Epoch 9/50\n",
      "\u001b[1m22/22\u001b[0m \u001b[32m━━━━━━━━━━━━━━━━━━━━\u001b[0m\u001b[37m\u001b[0m \u001b[1m0s\u001b[0m 3ms/step - accuracy: 0.4432 - loss: 1.0959 - val_accuracy: 0.8333 - val_loss: 1.0565\n",
      "Epoch 10/50\n",
      "\u001b[1m22/22\u001b[0m \u001b[32m━━━━━━━━━━━━━━━━━━━━\u001b[0m\u001b[37m\u001b[0m \u001b[1m0s\u001b[0m 3ms/step - accuracy: 0.5425 - loss: 1.0748 - val_accuracy: 0.8333 - val_loss: 1.0558\n",
      "Epoch 11/50\n",
      "\u001b[1m22/22\u001b[0m \u001b[32m━━━━━━━━━━━━━━━━━━━━\u001b[0m\u001b[37m\u001b[0m \u001b[1m0s\u001b[0m 3ms/step - accuracy: 0.5629 - loss: 1.0306 - val_accuracy: 0.8333 - val_loss: 1.0546\n",
      "Epoch 12/50\n",
      "\u001b[1m22/22\u001b[0m \u001b[32m━━━━━━━━━━━━━━━━━━━━\u001b[0m\u001b[37m\u001b[0m \u001b[1m0s\u001b[0m 3ms/step - accuracy: 0.5658 - loss: 1.0525 - val_accuracy: 0.8333 - val_loss: 1.0531\n",
      "Epoch 13/50\n",
      "\u001b[1m22/22\u001b[0m \u001b[32m━━━━━━━━━━━━━━━━━━━━\u001b[0m\u001b[37m\u001b[0m \u001b[1m0s\u001b[0m 3ms/step - accuracy: 0.5069 - loss: 1.0444 - val_accuracy: 0.8333 - val_loss: 1.0513\n",
      "Epoch 14/50\n",
      "\u001b[1m22/22\u001b[0m \u001b[32m━━━━━━━━━━━━━━━━━━━━\u001b[0m\u001b[37m\u001b[0m \u001b[1m0s\u001b[0m 3ms/step - accuracy: 0.4781 - loss: 1.0497 - val_accuracy: 0.8333 - val_loss: 1.0497\n",
      "Epoch 15/50\n",
      "\u001b[1m22/22\u001b[0m \u001b[32m━━━━━━━━━━━━━━━━━━━━\u001b[0m\u001b[37m\u001b[0m \u001b[1m0s\u001b[0m 3ms/step - accuracy: 0.4666 - loss: 1.0250 - val_accuracy: 0.8333 - val_loss: 1.0483\n",
      "Epoch 16/50\n",
      "\u001b[1m22/22\u001b[0m \u001b[32m━━━━━━━━━━━━━━━━━━━━\u001b[0m\u001b[37m\u001b[0m \u001b[1m0s\u001b[0m 3ms/step - accuracy: 0.3783 - loss: 1.1096 - val_accuracy: 0.8333 - val_loss: 1.0476\n",
      "Epoch 17/50\n",
      "\u001b[1m22/22\u001b[0m \u001b[32m━━━━━━━━━━━━━━━━━━━━\u001b[0m\u001b[37m\u001b[0m \u001b[1m0s\u001b[0m 3ms/step - accuracy: 0.5169 - loss: 1.0460 - val_accuracy: 0.8333 - val_loss: 1.0465\n",
      "Epoch 18/50\n",
      "\u001b[1m22/22\u001b[0m \u001b[32m━━━━━━━━━━━━━━━━━━━━\u001b[0m\u001b[37m\u001b[0m \u001b[1m0s\u001b[0m 3ms/step - accuracy: 0.4210 - loss: 1.0353 - val_accuracy: 0.8333 - val_loss: 1.0453\n",
      "Epoch 19/50\n",
      "\u001b[1m22/22\u001b[0m \u001b[32m━━━━━━━━━━━━━━━━━━━━\u001b[0m\u001b[37m\u001b[0m \u001b[1m0s\u001b[0m 3ms/step - accuracy: 0.4788 - loss: 1.0464 - val_accuracy: 0.8333 - val_loss: 1.0441\n",
      "Epoch 20/50\n",
      "\u001b[1m22/22\u001b[0m \u001b[32m━━━━━━━━━━━━━━━━━━━━\u001b[0m\u001b[37m\u001b[0m \u001b[1m0s\u001b[0m 3ms/step - accuracy: 0.5522 - loss: 0.9766 - val_accuracy: 0.8333 - val_loss: 1.0429\n",
      "Epoch 21/50\n",
      "\u001b[1m22/22\u001b[0m \u001b[32m━━━━━━━━━━━━━━━━━━━━\u001b[0m\u001b[37m\u001b[0m \u001b[1m0s\u001b[0m 3ms/step - accuracy: 0.5503 - loss: 1.0321 - val_accuracy: 0.8333 - val_loss: 1.0415\n",
      "Epoch 22/50\n",
      "\u001b[1m22/22\u001b[0m \u001b[32m━━━━━━━━━━━━━━━━━━━━\u001b[0m\u001b[37m\u001b[0m \u001b[1m0s\u001b[0m 3ms/step - accuracy: 0.5507 - loss: 0.9845 - val_accuracy: 0.8333 - val_loss: 1.0401\n",
      "Epoch 23/50\n",
      "\u001b[1m22/22\u001b[0m \u001b[32m━━━━━━━━━━━━━━━━━━━━\u001b[0m\u001b[37m\u001b[0m \u001b[1m0s\u001b[0m 3ms/step - accuracy: 0.4583 - loss: 1.0490 - val_accuracy: 0.8333 - val_loss: 1.0389\n",
      "Epoch 24/50\n",
      "\u001b[1m22/22\u001b[0m \u001b[32m━━━━━━━━━━━━━━━━━━━━\u001b[0m\u001b[37m\u001b[0m \u001b[1m0s\u001b[0m 3ms/step - accuracy: 0.4598 - loss: 1.0701 - val_accuracy: 0.8333 - val_loss: 1.0378\n",
      "Epoch 25/50\n",
      "\u001b[1m22/22\u001b[0m \u001b[32m━━━━━━━━━━━━━━━━━━━━\u001b[0m\u001b[37m\u001b[0m \u001b[1m0s\u001b[0m 3ms/step - accuracy: 0.6282 - loss: 0.9474 - val_accuracy: 0.8333 - val_loss: 1.0364\n",
      "Epoch 26/50\n",
      "\u001b[1m22/22\u001b[0m \u001b[32m━━━━━━━━━━━━━━━━━━━━\u001b[0m\u001b[37m\u001b[0m \u001b[1m0s\u001b[0m 3ms/step - accuracy: 0.5735 - loss: 1.0186 - val_accuracy: 0.8333 - val_loss: 1.0351\n",
      "Epoch 27/50\n",
      "\u001b[1m22/22\u001b[0m \u001b[32m━━━━━━━━━━━━━━━━━━━━\u001b[0m\u001b[37m\u001b[0m \u001b[1m0s\u001b[0m 3ms/step - accuracy: 0.4851 - loss: 1.0649 - val_accuracy: 0.8333 - val_loss: 1.0341\n",
      "Epoch 28/50\n",
      "\u001b[1m22/22\u001b[0m \u001b[32m━━━━━━━━━━━━━━━━━━━━\u001b[0m\u001b[37m\u001b[0m \u001b[1m0s\u001b[0m 3ms/step - accuracy: 0.5003 - loss: 1.0630 - val_accuracy: 0.8333 - val_loss: 1.0331\n",
      "Epoch 29/50\n",
      "\u001b[1m22/22\u001b[0m \u001b[32m━━━━━━━━━━━━━━━━━━━━\u001b[0m\u001b[37m\u001b[0m \u001b[1m0s\u001b[0m 3ms/step - accuracy: 0.6274 - loss: 0.9971 - val_accuracy: 0.8333 - val_loss: 1.0318\n",
      "Epoch 30/50\n",
      "\u001b[1m22/22\u001b[0m \u001b[32m━━━━━━━━━━━━━━━━━━━━\u001b[0m\u001b[37m\u001b[0m \u001b[1m0s\u001b[0m 3ms/step - accuracy: 0.5601 - loss: 1.0145 - val_accuracy: 0.8333 - val_loss: 1.0306\n",
      "Epoch 31/50\n",
      "\u001b[1m22/22\u001b[0m \u001b[32m━━━━━━━━━━━━━━━━━━━━\u001b[0m\u001b[37m\u001b[0m \u001b[1m0s\u001b[0m 3ms/step - accuracy: 0.4206 - loss: 1.0727 - val_accuracy: 0.8333 - val_loss: 1.0299\n",
      "Epoch 32/50\n",
      "\u001b[1m22/22\u001b[0m \u001b[32m━━━━━━━━━━━━━━━━━━━━\u001b[0m\u001b[37m\u001b[0m \u001b[1m0s\u001b[0m 4ms/step - accuracy: 0.5712 - loss: 0.9739 - val_accuracy: 0.8333 - val_loss: 1.0288\n",
      "Epoch 33/50\n",
      "\u001b[1m22/22\u001b[0m \u001b[32m━━━━━━━━━━━━━━━━━━━━\u001b[0m\u001b[37m\u001b[0m \u001b[1m0s\u001b[0m 3ms/step - accuracy: 0.6191 - loss: 0.9835 - val_accuracy: 0.8333 - val_loss: 1.0277\n",
      "Epoch 34/50\n",
      "\u001b[1m22/22\u001b[0m \u001b[32m━━━━━━━━━━━━━━━━━━━━\u001b[0m\u001b[37m\u001b[0m \u001b[1m0s\u001b[0m 3ms/step - accuracy: 0.4868 - loss: 1.0271 - val_accuracy: 0.8333 - val_loss: 1.0267\n",
      "Epoch 35/50\n",
      "\u001b[1m22/22\u001b[0m \u001b[32m━━━━━━━━━━━━━━━━━━━━\u001b[0m\u001b[37m\u001b[0m \u001b[1m0s\u001b[0m 3ms/step - accuracy: 0.5841 - loss: 1.0198 - val_accuracy: 0.8333 - val_loss: 1.0258\n",
      "Epoch 36/50\n",
      "\u001b[1m22/22\u001b[0m \u001b[32m━━━━━━━━━━━━━━━━━━━━\u001b[0m\u001b[37m\u001b[0m \u001b[1m0s\u001b[0m 3ms/step - accuracy: 0.5560 - loss: 0.9857 - val_accuracy: 0.8333 - val_loss: 1.0247\n",
      "Epoch 37/50\n",
      "\u001b[1m22/22\u001b[0m \u001b[32m━━━━━━━━━━━━━━━━━━━━\u001b[0m\u001b[37m\u001b[0m \u001b[1m0s\u001b[0m 3ms/step - accuracy: 0.5055 - loss: 1.0145 - val_accuracy: 0.8333 - val_loss: 1.0236\n",
      "Epoch 38/50\n",
      "\u001b[1m22/22\u001b[0m \u001b[32m━━━━━━━━━━━━━━━━━━━━\u001b[0m\u001b[37m\u001b[0m \u001b[1m0s\u001b[0m 3ms/step - accuracy: 0.6388 - loss: 1.0509 - val_accuracy: 0.8333 - val_loss: 1.0228\n",
      "Epoch 39/50\n",
      "\u001b[1m22/22\u001b[0m \u001b[32m━━━━━━━━━━━━━━━━━━━━\u001b[0m\u001b[37m\u001b[0m \u001b[1m0s\u001b[0m 3ms/step - accuracy: 0.4800 - loss: 1.0925 - val_accuracy: 0.8333 - val_loss: 1.0222\n",
      "Epoch 40/50\n",
      "\u001b[1m22/22\u001b[0m \u001b[32m━━━━━━━━━━━━━━━━━━━━\u001b[0m\u001b[37m\u001b[0m \u001b[1m0s\u001b[0m 3ms/step - accuracy: 0.5865 - loss: 1.0339 - val_accuracy: 0.8333 - val_loss: 1.0215\n",
      "Epoch 41/50\n",
      "\u001b[1m22/22\u001b[0m \u001b[32m━━━━━━━━━━━━━━━━━━━━\u001b[0m\u001b[37m\u001b[0m \u001b[1m0s\u001b[0m 3ms/step - accuracy: 0.6109 - loss: 1.0092 - val_accuracy: 0.8333 - val_loss: 1.0208\n",
      "Epoch 42/50\n",
      "\u001b[1m22/22\u001b[0m \u001b[32m━━━━━━━━━━━━━━━━━━━━\u001b[0m\u001b[37m\u001b[0m \u001b[1m0s\u001b[0m 3ms/step - accuracy: 0.4743 - loss: 1.0341 - val_accuracy: 0.8333 - val_loss: 1.0198\n",
      "Epoch 43/50\n",
      "\u001b[1m22/22\u001b[0m \u001b[32m━━━━━━━━━━━━━━━━━━━━\u001b[0m\u001b[37m\u001b[0m \u001b[1m0s\u001b[0m 3ms/step - accuracy: 0.5985 - loss: 0.9852 - val_accuracy: 0.8333 - val_loss: 1.0187\n",
      "Epoch 44/50\n",
      "\u001b[1m22/22\u001b[0m \u001b[32m━━━━━━━━━━━━━━━━━━━━\u001b[0m\u001b[37m\u001b[0m \u001b[1m0s\u001b[0m 3ms/step - accuracy: 0.5514 - loss: 1.0081 - val_accuracy: 0.8333 - val_loss: 1.0178\n",
      "Epoch 45/50\n",
      "\u001b[1m22/22\u001b[0m \u001b[32m━━━━━━━━━━━━━━━━━━━━\u001b[0m\u001b[37m\u001b[0m \u001b[1m0s\u001b[0m 3ms/step - accuracy: 0.6103 - loss: 0.9659 - val_accuracy: 0.8333 - val_loss: 1.0171\n",
      "Epoch 46/50\n",
      "\u001b[1m22/22\u001b[0m \u001b[32m━━━━━━━━━━━━━━━━━━━━\u001b[0m\u001b[37m\u001b[0m \u001b[1m0s\u001b[0m 3ms/step - accuracy: 0.6508 - loss: 0.9355 - val_accuracy: 0.8333 - val_loss: 1.0159\n",
      "Epoch 47/50\n",
      "\u001b[1m22/22\u001b[0m \u001b[32m━━━━━━━━━━━━━━━━━━━━\u001b[0m\u001b[37m\u001b[0m \u001b[1m0s\u001b[0m 4ms/step - accuracy: 0.5764 - loss: 0.9516 - val_accuracy: 0.8333 - val_loss: 1.0148\n",
      "Epoch 48/50\n",
      "\u001b[1m22/22\u001b[0m \u001b[32m━━━━━━━━━━━━━━━━━━━━\u001b[0m\u001b[37m\u001b[0m \u001b[1m0s\u001b[0m 3ms/step - accuracy: 0.5350 - loss: 1.0339 - val_accuracy: 0.8333 - val_loss: 1.0137\n",
      "Epoch 49/50\n",
      "\u001b[1m22/22\u001b[0m \u001b[32m━━━━━━━━━━━━━━━━━━━━\u001b[0m\u001b[37m\u001b[0m \u001b[1m0s\u001b[0m 3ms/step - accuracy: 0.6159 - loss: 0.9959 - val_accuracy: 0.8333 - val_loss: 1.0124\n",
      "Epoch 50/50\n",
      "\u001b[1m22/22\u001b[0m \u001b[32m━━━━━━━━━━━━━━━━━━━━\u001b[0m\u001b[37m\u001b[0m \u001b[1m0s\u001b[0m 3ms/step - accuracy: 0.6140 - loss: 0.9874 - val_accuracy: 0.8333 - val_loss: 1.0112\n"
     ]
    }
   ],
   "source": [
    "# Entrenar el modelo\n",
    "history_lr_0001 = model_lr_0001.fit(X_train, y_train, epochs=50, batch_size=5, validation_split=0.1)"
   ]
  },
  {
   "cell_type": "code",
   "execution_count": 28,
   "id": "c7e30894",
   "metadata": {},
   "outputs": [
    {
     "name": "stdout",
     "output_type": "stream",
     "text": [
      "\u001b[1m1/1\u001b[0m \u001b[32m━━━━━━━━━━━━━━━━━━━━\u001b[0m\u001b[37m\u001b[0m \u001b[1m0s\u001b[0m 25ms/step - accuracy: 0.8667 - loss: 0.9026\n",
      "Precisión en el conjunto de prueba (LR 0.0001): 86.67%\n"
     ]
    }
   ],
   "source": [
    "# Evaluar el modelo\n",
    "loss_0001, accuracy_0001 = model_lr_0001.evaluate(X_test, y_test)\n",
    "print(f'Precisión en el conjunto de prueba (LR 0.0001): {accuracy_0001 * 100:.2f}%')"
   ]
  },
  {
   "cell_type": "markdown",
   "id": "fd6d18c7",
   "metadata": {},
   "source": [
    "# Resultados y Conclusiones"
   ]
  },
  {
   "cell_type": "markdown",
   "id": "fa9ca4bc",
   "metadata": {},
   "source": [
    "Precisión en el conjunto de prueba (LR 0.01): 63.33%"
   ]
  },
  {
   "cell_type": "markdown",
   "id": "2532080d",
   "metadata": {},
   "source": [
    "Precisión en el conjunto de prueba (LR 0.0001): 86.67%"
   ]
  },
  {
   "cell_type": "markdown",
   "id": "1c39492a",
   "metadata": {},
   "source": [
    "¿Cómo afecta cada cambio en la tasa de aprendizaje a la precisión y la pérdida del modelo durante el entrenamiento y la validación?"
   ]
  },
  {
   "cell_type": "markdown",
   "id": "c4e913a5",
   "metadata": {},
   "source": [
    "Cada cambio en la tasa de aprendizaje puede tener un impacto significativo en la precisión y la pérdida del modelo durante el entrenamiento y la validación. Una tasa de aprendizaje baja puede conducir a una convergencia más suave y estable, una tasa de aprendizaje alta puede acelerar el proceso de entrenamiento pero puede ser propensa a la inestabilidad, mientras que una tasa de aprendizaje media puede proporcionar un buen equilibrio entre convergencia rápida y estabilidad."
   ]
  },
  {
   "cell_type": "markdown",
   "id": "55eb97bf",
   "metadata": {},
   "source": [
    "# Desafio 2"
   ]
  },
  {
   "cell_type": "markdown",
   "id": "01d3f186",
   "metadata": {},
   "source": [
    "# 256 neuronas"
   ]
  },
  {
   "cell_type": "code",
   "execution_count": 29,
   "id": "b910aa4f",
   "metadata": {},
   "outputs": [],
   "source": [
    "# Crear el modelo MLP con Dropout + Regularización L2 y 256 neuronas en cada capa oculta\n",
    "model_neurons_256 = Sequential()\n",
    "model_neurons_256.add(Dense(256, input_dim=4, activation='relu', kernel_regularizer=l2(0.01)))  # Capa oculta 1 con 256 neuronas\n",
    "model_neurons_256.add(Dropout(0.5))\n",
    "model_neurons_256.add(Dense(256, activation='relu', kernel_regularizer=l2(0.01)))  # Capa oculta 2 con 256 neuronas\n",
    "model_neurons_256.add(Dropout(0.5))\n",
    "model_neurons_256.add(Dense(256, activation='relu', kernel_regularizer=l2(0.01)))  # Capa oculta 3 con 256 neuronas\n",
    "model_neurons_256.add(Dropout(0.5))\n",
    "model_neurons_256.add(Dense(3, activation='softmax'))  # Capa de salida"
   ]
  },
  {
   "cell_type": "code",
   "execution_count": 30,
   "id": "bbf1e5ca",
   "metadata": {},
   "outputs": [],
   "source": [
    "# Compilar el modelo\n",
    "model_neurons_256.compile(optimizer='adam', loss='categorical_crossentropy', metrics=['accuracy'])\n"
   ]
  },
  {
   "cell_type": "code",
   "execution_count": 31,
   "id": "a2a4900b",
   "metadata": {},
   "outputs": [
    {
     "name": "stdout",
     "output_type": "stream",
     "text": [
      "Epoch 1/50\n",
      "\u001b[1m22/22\u001b[0m \u001b[32m━━━━━━━━━━━━━━━━━━━━\u001b[0m\u001b[37m\u001b[0m \u001b[1m1s\u001b[0m 12ms/step - accuracy: 0.3600 - loss: 6.1400 - val_accuracy: 0.5833 - val_loss: 4.7360\n",
      "Epoch 2/50\n",
      "\u001b[1m22/22\u001b[0m \u001b[32m━━━━━━━━━━━━━━━━━━━━\u001b[0m\u001b[37m\u001b[0m \u001b[1m0s\u001b[0m 4ms/step - accuracy: 0.5170 - loss: 4.5982 - val_accuracy: 0.5833 - val_loss: 3.8740\n",
      "Epoch 3/50\n",
      "\u001b[1m22/22\u001b[0m \u001b[32m━━━━━━━━━━━━━━━━━━━━\u001b[0m\u001b[37m\u001b[0m \u001b[1m0s\u001b[0m 4ms/step - accuracy: 0.4910 - loss: 3.9956 - val_accuracy: 0.5833 - val_loss: 3.2694\n",
      "Epoch 4/50\n",
      "\u001b[1m22/22\u001b[0m \u001b[32m━━━━━━━━━━━━━━━━━━━━\u001b[0m\u001b[37m\u001b[0m \u001b[1m0s\u001b[0m 4ms/step - accuracy: 0.6936 - loss: 3.1836 - val_accuracy: 0.5833 - val_loss: 2.9380\n",
      "Epoch 5/50\n",
      "\u001b[1m22/22\u001b[0m \u001b[32m━━━━━━━━━━━━━━━━━━━━\u001b[0m\u001b[37m\u001b[0m \u001b[1m0s\u001b[0m 4ms/step - accuracy: 0.6816 - loss: 2.9439 - val_accuracy: 0.5833 - val_loss: 2.6624\n",
      "Epoch 6/50\n",
      "\u001b[1m22/22\u001b[0m \u001b[32m━━━━━━━━━━━━━━━━━━━━\u001b[0m\u001b[37m\u001b[0m \u001b[1m0s\u001b[0m 4ms/step - accuracy: 0.6636 - loss: 2.6959 - val_accuracy: 0.5833 - val_loss: 2.4944\n",
      "Epoch 7/50\n",
      "\u001b[1m22/22\u001b[0m \u001b[32m━━━━━━━━━━━━━━━━━━━━\u001b[0m\u001b[37m\u001b[0m \u001b[1m0s\u001b[0m 4ms/step - accuracy: 0.7357 - loss: 2.4808 - val_accuracy: 0.7500 - val_loss: 2.3064\n",
      "Epoch 8/50\n",
      "\u001b[1m22/22\u001b[0m \u001b[32m━━━━━━━━━━━━━━━━━━━━\u001b[0m\u001b[37m\u001b[0m \u001b[1m0s\u001b[0m 4ms/step - accuracy: 0.8259 - loss: 2.1977 - val_accuracy: 0.9167 - val_loss: 2.1263\n",
      "Epoch 9/50\n",
      "\u001b[1m22/22\u001b[0m \u001b[32m━━━━━━━━━━━━━━━━━━━━\u001b[0m\u001b[37m\u001b[0m \u001b[1m0s\u001b[0m 4ms/step - accuracy: 0.7037 - loss: 2.2393 - val_accuracy: 0.5833 - val_loss: 2.0556\n",
      "Epoch 10/50\n",
      "\u001b[1m22/22\u001b[0m \u001b[32m━━━━━━━━━━━━━━━━━━━━\u001b[0m\u001b[37m\u001b[0m \u001b[1m0s\u001b[0m 4ms/step - accuracy: 0.7910 - loss: 1.9706 - val_accuracy: 1.0000 - val_loss: 1.8008\n",
      "Epoch 11/50\n",
      "\u001b[1m22/22\u001b[0m \u001b[32m━━━━━━━━━━━━━━━━━━━━\u001b[0m\u001b[37m\u001b[0m \u001b[1m0s\u001b[0m 4ms/step - accuracy: 0.7462 - loss: 1.9004 - val_accuracy: 0.9167 - val_loss: 1.6997\n",
      "Epoch 12/50\n",
      "\u001b[1m22/22\u001b[0m \u001b[32m━━━━━━━━━━━━━━━━━━━━\u001b[0m\u001b[37m\u001b[0m \u001b[1m0s\u001b[0m 4ms/step - accuracy: 0.8037 - loss: 1.7592 - val_accuracy: 1.0000 - val_loss: 1.5684\n",
      "Epoch 13/50\n",
      "\u001b[1m22/22\u001b[0m \u001b[32m━━━━━━━━━━━━━━━━━━━━\u001b[0m\u001b[37m\u001b[0m \u001b[1m0s\u001b[0m 5ms/step - accuracy: 0.9039 - loss: 1.5880 - val_accuracy: 1.0000 - val_loss: 1.4572\n",
      "Epoch 14/50\n",
      "\u001b[1m22/22\u001b[0m \u001b[32m━━━━━━━━━━━━━━━━━━━━\u001b[0m\u001b[37m\u001b[0m \u001b[1m0s\u001b[0m 5ms/step - accuracy: 0.8328 - loss: 1.5615 - val_accuracy: 1.0000 - val_loss: 1.3952\n",
      "Epoch 15/50\n",
      "\u001b[1m22/22\u001b[0m \u001b[32m━━━━━━━━━━━━━━━━━━━━\u001b[0m\u001b[37m\u001b[0m \u001b[1m0s\u001b[0m 4ms/step - accuracy: 0.7801 - loss: 1.5856 - val_accuracy: 1.0000 - val_loss: 1.2958\n",
      "Epoch 16/50\n",
      "\u001b[1m22/22\u001b[0m \u001b[32m━━━━━━━━━━━━━━━━━━━━\u001b[0m\u001b[37m\u001b[0m \u001b[1m0s\u001b[0m 5ms/step - accuracy: 0.8537 - loss: 1.4187 - val_accuracy: 0.7500 - val_loss: 1.4126\n",
      "Epoch 17/50\n",
      "\u001b[1m22/22\u001b[0m \u001b[32m━━━━━━━━━━━━━━━━━━━━\u001b[0m\u001b[37m\u001b[0m \u001b[1m0s\u001b[0m 5ms/step - accuracy: 0.8160 - loss: 1.3844 - val_accuracy: 1.0000 - val_loss: 1.2053\n",
      "Epoch 18/50\n",
      "\u001b[1m22/22\u001b[0m \u001b[32m━━━━━━━━━━━━━━━━━━━━\u001b[0m\u001b[37m\u001b[0m \u001b[1m0s\u001b[0m 4ms/step - accuracy: 0.8903 - loss: 1.2222 - val_accuracy: 1.0000 - val_loss: 1.0975\n",
      "Epoch 19/50\n",
      "\u001b[1m22/22\u001b[0m \u001b[32m━━━━━━━━━━━━━━━━━━━━\u001b[0m\u001b[37m\u001b[0m \u001b[1m0s\u001b[0m 4ms/step - accuracy: 0.8270 - loss: 1.1959 - val_accuracy: 1.0000 - val_loss: 1.0522\n",
      "Epoch 20/50\n",
      "\u001b[1m22/22\u001b[0m \u001b[32m━━━━━━━━━━━━━━━━━━━━\u001b[0m\u001b[37m\u001b[0m \u001b[1m0s\u001b[0m 4ms/step - accuracy: 0.9404 - loss: 1.0674 - val_accuracy: 1.0000 - val_loss: 0.9749\n",
      "Epoch 21/50\n",
      "\u001b[1m22/22\u001b[0m \u001b[32m━━━━━━━━━━━━━━━━━━━━\u001b[0m\u001b[37m\u001b[0m \u001b[1m0s\u001b[0m 4ms/step - accuracy: 0.8805 - loss: 1.1027 - val_accuracy: 0.9167 - val_loss: 1.0104\n",
      "Epoch 22/50\n",
      "\u001b[1m22/22\u001b[0m \u001b[32m━━━━━━━━━━━━━━━━━━━━\u001b[0m\u001b[37m\u001b[0m \u001b[1m0s\u001b[0m 4ms/step - accuracy: 0.8350 - loss: 1.0890 - val_accuracy: 0.9167 - val_loss: 0.9076\n",
      "Epoch 23/50\n",
      "\u001b[1m22/22\u001b[0m \u001b[32m━━━━━━━━━━━━━━━━━━━━\u001b[0m\u001b[37m\u001b[0m \u001b[1m0s\u001b[0m 4ms/step - accuracy: 0.8859 - loss: 0.9321 - val_accuracy: 1.0000 - val_loss: 0.8221\n",
      "Epoch 24/50\n",
      "\u001b[1m22/22\u001b[0m \u001b[32m━━━━━━━━━━━━━━━━━━━━\u001b[0m\u001b[37m\u001b[0m \u001b[1m0s\u001b[0m 4ms/step - accuracy: 0.9373 - loss: 0.8832 - val_accuracy: 1.0000 - val_loss: 0.7896\n",
      "Epoch 25/50\n",
      "\u001b[1m22/22\u001b[0m \u001b[32m━━━━━━━━━━━━━━━━━━━━\u001b[0m\u001b[37m\u001b[0m \u001b[1m0s\u001b[0m 6ms/step - accuracy: 0.8524 - loss: 0.9959 - val_accuracy: 0.9167 - val_loss: 0.9049\n",
      "Epoch 26/50\n",
      "\u001b[1m22/22\u001b[0m \u001b[32m━━━━━━━━━━━━━━━━━━━━\u001b[0m\u001b[37m\u001b[0m \u001b[1m0s\u001b[0m 4ms/step - accuracy: 0.8794 - loss: 0.9197 - val_accuracy: 1.0000 - val_loss: 0.7306\n",
      "Epoch 27/50\n",
      "\u001b[1m22/22\u001b[0m \u001b[32m━━━━━━━━━━━━━━━━━━━━\u001b[0m\u001b[37m\u001b[0m \u001b[1m0s\u001b[0m 4ms/step - accuracy: 0.9497 - loss: 0.8222 - val_accuracy: 1.0000 - val_loss: 0.6679\n",
      "Epoch 28/50\n",
      "\u001b[1m22/22\u001b[0m \u001b[32m━━━━━━━━━━━━━━━━━━━━\u001b[0m\u001b[37m\u001b[0m \u001b[1m0s\u001b[0m 4ms/step - accuracy: 0.9244 - loss: 0.7676 - val_accuracy: 1.0000 - val_loss: 0.6532\n",
      "Epoch 29/50\n",
      "\u001b[1m22/22\u001b[0m \u001b[32m━━━━━━━━━━━━━━━━━━━━\u001b[0m\u001b[37m\u001b[0m \u001b[1m0s\u001b[0m 6ms/step - accuracy: 0.9707 - loss: 0.7093 - val_accuracy: 1.0000 - val_loss: 0.5935\n",
      "Epoch 30/50\n",
      "\u001b[1m22/22\u001b[0m \u001b[32m━━━━━━━━━━━━━━━━━━━━\u001b[0m\u001b[37m\u001b[0m \u001b[1m0s\u001b[0m 21ms/step - accuracy: 0.9096 - loss: 0.7418 - val_accuracy: 1.0000 - val_loss: 0.6328\n",
      "Epoch 31/50\n",
      "\u001b[1m22/22\u001b[0m \u001b[32m━━━━━━━━━━━━━━━━━━━━\u001b[0m\u001b[37m\u001b[0m \u001b[1m0s\u001b[0m 4ms/step - accuracy: 0.9360 - loss: 0.6555 - val_accuracy: 0.9167 - val_loss: 0.6001\n",
      "Epoch 32/50\n",
      "\u001b[1m22/22\u001b[0m \u001b[32m━━━━━━━━━━━━━━━━━━━━\u001b[0m\u001b[37m\u001b[0m \u001b[1m0s\u001b[0m 4ms/step - accuracy: 0.9555 - loss: 0.6105 - val_accuracy: 1.0000 - val_loss: 0.5372\n",
      "Epoch 33/50\n",
      "\u001b[1m22/22\u001b[0m \u001b[32m━━━━━━━━━━━━━━━━━━━━\u001b[0m\u001b[37m\u001b[0m \u001b[1m0s\u001b[0m 4ms/step - accuracy: 0.9402 - loss: 0.6392 - val_accuracy: 1.0000 - val_loss: 0.5364\n",
      "Epoch 34/50\n",
      "\u001b[1m22/22\u001b[0m \u001b[32m━━━━━━━━━━━━━━━━━━━━\u001b[0m\u001b[37m\u001b[0m \u001b[1m0s\u001b[0m 4ms/step - accuracy: 0.9193 - loss: 0.6484 - val_accuracy: 1.0000 - val_loss: 0.5030\n",
      "Epoch 35/50\n",
      "\u001b[1m22/22\u001b[0m \u001b[32m━━━━━━━━━━━━━━━━━━━━\u001b[0m\u001b[37m\u001b[0m \u001b[1m0s\u001b[0m 4ms/step - accuracy: 0.9538 - loss: 0.6216 - val_accuracy: 1.0000 - val_loss: 0.4851\n",
      "Epoch 36/50\n",
      "\u001b[1m22/22\u001b[0m \u001b[32m━━━━━━━━━━━━━━━━━━━━\u001b[0m\u001b[37m\u001b[0m \u001b[1m0s\u001b[0m 4ms/step - accuracy: 0.9524 - loss: 0.5410 - val_accuracy: 1.0000 - val_loss: 0.4646\n",
      "Epoch 37/50\n",
      "\u001b[1m22/22\u001b[0m \u001b[32m━━━━━━━━━━━━━━━━━━━━\u001b[0m\u001b[37m\u001b[0m \u001b[1m0s\u001b[0m 4ms/step - accuracy: 0.9248 - loss: 0.5842 - val_accuracy: 1.0000 - val_loss: 0.4762\n",
      "Epoch 38/50\n",
      "\u001b[1m22/22\u001b[0m \u001b[32m━━━━━━━━━━━━━━━━━━━━\u001b[0m\u001b[37m\u001b[0m \u001b[1m0s\u001b[0m 4ms/step - accuracy: 0.8806 - loss: 0.5828 - val_accuracy: 1.0000 - val_loss: 0.4391\n",
      "Epoch 39/50\n",
      "\u001b[1m22/22\u001b[0m \u001b[32m━━━━━━━━━━━━━━━━━━━━\u001b[0m\u001b[37m\u001b[0m \u001b[1m0s\u001b[0m 4ms/step - accuracy: 0.8772 - loss: 0.7002 - val_accuracy: 1.0000 - val_loss: 0.4306\n",
      "Epoch 40/50\n",
      "\u001b[1m22/22\u001b[0m \u001b[32m━━━━━━━━━━━━━━━━━━━━\u001b[0m\u001b[37m\u001b[0m \u001b[1m0s\u001b[0m 4ms/step - accuracy: 0.9679 - loss: 0.4852 - val_accuracy: 1.0000 - val_loss: 0.4451\n",
      "Epoch 41/50\n",
      "\u001b[1m22/22\u001b[0m \u001b[32m━━━━━━━━━━━━━━━━━━━━\u001b[0m\u001b[37m\u001b[0m \u001b[1m0s\u001b[0m 4ms/step - accuracy: 0.8685 - loss: 0.5275 - val_accuracy: 1.0000 - val_loss: 0.4067\n",
      "Epoch 42/50\n",
      "\u001b[1m22/22\u001b[0m \u001b[32m━━━━━━━━━━━━━━━━━━━━\u001b[0m\u001b[37m\u001b[0m \u001b[1m0s\u001b[0m 4ms/step - accuracy: 0.9532 - loss: 0.4416 - val_accuracy: 1.0000 - val_loss: 0.4341\n",
      "Epoch 43/50\n",
      "\u001b[1m22/22\u001b[0m \u001b[32m━━━━━━━━━━━━━━━━━━━━\u001b[0m\u001b[37m\u001b[0m \u001b[1m0s\u001b[0m 4ms/step - accuracy: 0.9111 - loss: 0.5473 - val_accuracy: 1.0000 - val_loss: 0.3808\n",
      "Epoch 44/50\n",
      "\u001b[1m22/22\u001b[0m \u001b[32m━━━━━━━━━━━━━━━━━━━━\u001b[0m\u001b[37m\u001b[0m \u001b[1m0s\u001b[0m 5ms/step - accuracy: 0.9388 - loss: 0.4541 - val_accuracy: 1.0000 - val_loss: 0.3719\n",
      "Epoch 45/50\n",
      "\u001b[1m22/22\u001b[0m \u001b[32m━━━━━━━━━━━━━━━━━━━━\u001b[0m\u001b[37m\u001b[0m \u001b[1m0s\u001b[0m 4ms/step - accuracy: 0.9456 - loss: 0.4538 - val_accuracy: 1.0000 - val_loss: 0.3579\n",
      "Epoch 46/50\n",
      "\u001b[1m22/22\u001b[0m \u001b[32m━━━━━━━━━━━━━━━━━━━━\u001b[0m\u001b[37m\u001b[0m \u001b[1m0s\u001b[0m 4ms/step - accuracy: 0.9127 - loss: 0.4878 - val_accuracy: 1.0000 - val_loss: 0.3564\n",
      "Epoch 47/50\n",
      "\u001b[1m22/22\u001b[0m \u001b[32m━━━━━━━━━━━━━━━━━━━━\u001b[0m\u001b[37m\u001b[0m \u001b[1m0s\u001b[0m 6ms/step - accuracy: 0.9570 - loss: 0.4725 - val_accuracy: 1.0000 - val_loss: 0.3796\n",
      "Epoch 48/50\n",
      "\u001b[1m22/22\u001b[0m \u001b[32m━━━━━━━━━━━━━━━━━━━━\u001b[0m\u001b[37m\u001b[0m \u001b[1m0s\u001b[0m 4ms/step - accuracy: 0.9151 - loss: 0.4347 - val_accuracy: 1.0000 - val_loss: 0.3358\n",
      "Epoch 49/50\n",
      "\u001b[1m22/22\u001b[0m \u001b[32m━━━━━━━━━━━━━━━━━━━━\u001b[0m\u001b[37m\u001b[0m \u001b[1m0s\u001b[0m 6ms/step - accuracy: 0.9159 - loss: 0.4486 - val_accuracy: 1.0000 - val_loss: 0.3216\n",
      "Epoch 50/50\n",
      "\u001b[1m22/22\u001b[0m \u001b[32m━━━━━━━━━━━━━━━━━━━━\u001b[0m\u001b[37m\u001b[0m \u001b[1m0s\u001b[0m 5ms/step - accuracy: 0.9338 - loss: 0.4308 - val_accuracy: 1.0000 - val_loss: 0.3451\n"
     ]
    }
   ],
   "source": [
    "# Entrenar el modelo\n",
    "history_neurons_256 = model_neurons_256.fit(X_train, y_train, epochs=50, batch_size=5, validation_split=0.1)"
   ]
  },
  {
   "cell_type": "code",
   "execution_count": 36,
   "id": "1ec3e558",
   "metadata": {},
   "outputs": [
    {
     "name": "stdout",
     "output_type": "stream",
     "text": [
      "\u001b[1m1/1\u001b[0m \u001b[32m━━━━━━━━━━━━━━━━━━━━\u001b[0m\u001b[37m\u001b[0m \u001b[1m0s\u001b[0m 21ms/step - accuracy: 0.9000 - loss: 0.3914\n",
      "Precisión en el conjunto de prueba (256 neuronas en cada capa oculta): 90.00%\n"
     ]
    }
   ],
   "source": [
    "# Evaluar el modelo con 256 neuronas en cada capa oculta en el conjunto de prueba\n",
    "loss_neurons_256, accuracy_neurons_256 = model_neurons_256.evaluate(X_test, y_test)\n",
    "print(f'Precisión en el conjunto de prueba (256 neuronas en cada capa oculta): {accuracy_neurons_256 * 100:.2f}%')"
   ]
  },
  {
   "cell_type": "markdown",
   "id": "7f90e7eb",
   "metadata": {},
   "source": [
    "# 1024 neuronas"
   ]
  },
  {
   "cell_type": "code",
   "execution_count": 32,
   "id": "ac6f09f7",
   "metadata": {},
   "outputs": [],
   "source": [
    "# Crear el modelo MLP con Dropout + Regularización L2 y 1024 neuronas en cada capa oculta\n",
    "model_neurons_1024 = Sequential()\n",
    "model_neurons_1024.add(Dense(1024, input_dim=4, activation='relu', kernel_regularizer=l2(0.01)))  # Capa oculta 1 con 1024 neuronas\n",
    "model_neurons_1024.add(Dropout(0.5))\n",
    "model_neurons_1024.add(Dense(1024, activation='relu', kernel_regularizer=l2(0.01)))  # Capa oculta 2 con 1024 neuronas\n",
    "model_neurons_1024.add(Dropout(0.5))\n",
    "model_neurons_1024.add(Dense(1024, activation='relu', kernel_regularizer=l2(0.01)))  # Capa oculta 3 con 1024 neuronas\n",
    "model_neurons_1024.add(Dropout(0.5))\n",
    "model_neurons_1024.add(Dense(3, activation='softmax'))  # Capa de salida"
   ]
  },
  {
   "cell_type": "code",
   "execution_count": 33,
   "id": "1d26ad63",
   "metadata": {},
   "outputs": [],
   "source": [
    "# Compilar el modelo\n",
    "model_neurons_1024.compile(optimizer='adam', loss='categorical_crossentropy', metrics=['accuracy'])"
   ]
  },
  {
   "cell_type": "code",
   "execution_count": 34,
   "id": "91278d26",
   "metadata": {},
   "outputs": [
    {
     "name": "stdout",
     "output_type": "stream",
     "text": [
      "Epoch 1/50\n",
      "\u001b[1m22/22\u001b[0m \u001b[32m━━━━━━━━━━━━━━━━━━━━\u001b[0m\u001b[37m\u001b[0m \u001b[1m3s\u001b[0m 52ms/step - accuracy: 0.2567 - loss: 18.3665 - val_accuracy: 0.5833 - val_loss: 11.0705\n",
      "Epoch 2/50\n",
      "\u001b[1m22/22\u001b[0m \u001b[32m━━━━━━━━━━━━━━━━━━━━\u001b[0m\u001b[37m\u001b[0m \u001b[1m1s\u001b[0m 39ms/step - accuracy: 0.5789 - loss: 9.9512 - val_accuracy: 0.5833 - val_loss: 7.2621\n",
      "Epoch 3/50\n",
      "\u001b[1m22/22\u001b[0m \u001b[32m━━━━━━━━━━━━━━━━━━━━\u001b[0m\u001b[37m\u001b[0m \u001b[1m1s\u001b[0m 37ms/step - accuracy: 0.7739 - loss: 6.5798 - val_accuracy: 0.5833 - val_loss: 5.4089\n",
      "Epoch 4/50\n",
      "\u001b[1m22/22\u001b[0m \u001b[32m━━━━━━━━━━━━━━━━━━━━\u001b[0m\u001b[37m\u001b[0m \u001b[1m1s\u001b[0m 39ms/step - accuracy: 0.7059 - loss: 5.2734 - val_accuracy: 0.9167 - val_loss: 4.2740\n",
      "Epoch 5/50\n",
      "\u001b[1m22/22\u001b[0m \u001b[32m━━━━━━━━━━━━━━━━━━━━\u001b[0m\u001b[37m\u001b[0m \u001b[1m1s\u001b[0m 37ms/step - accuracy: 0.8233 - loss: 4.1647 - val_accuracy: 1.0000 - val_loss: 3.4931\n",
      "Epoch 6/50\n",
      "\u001b[1m22/22\u001b[0m \u001b[32m━━━━━━━━━━━━━━━━━━━━\u001b[0m\u001b[37m\u001b[0m \u001b[1m1s\u001b[0m 41ms/step - accuracy: 0.8516 - loss: 3.4963 - val_accuracy: 1.0000 - val_loss: 2.8919\n",
      "Epoch 7/50\n",
      "\u001b[1m22/22\u001b[0m \u001b[32m━━━━━━━━━━━━━━━━━━━━\u001b[0m\u001b[37m\u001b[0m \u001b[1m1s\u001b[0m 40ms/step - accuracy: 0.8205 - loss: 2.9825 - val_accuracy: 1.0000 - val_loss: 2.4357\n",
      "Epoch 8/50\n",
      "\u001b[1m22/22\u001b[0m \u001b[32m━━━━━━━━━━━━━━━━━━━━\u001b[0m\u001b[37m\u001b[0m \u001b[1m1s\u001b[0m 40ms/step - accuracy: 0.8686 - loss: 2.4251 - val_accuracy: 0.9167 - val_loss: 2.1041\n",
      "Epoch 9/50\n",
      "\u001b[1m22/22\u001b[0m \u001b[32m━━━━━━━━━━━━━━━━━━━━\u001b[0m\u001b[37m\u001b[0m \u001b[1m1s\u001b[0m 39ms/step - accuracy: 0.8039 - loss: 2.2642 - val_accuracy: 1.0000 - val_loss: 1.9142\n",
      "Epoch 10/50\n",
      "\u001b[1m22/22\u001b[0m \u001b[32m━━━━━━━━━━━━━━━━━━━━\u001b[0m\u001b[37m\u001b[0m \u001b[1m1s\u001b[0m 39ms/step - accuracy: 0.8976 - loss: 1.9154 - val_accuracy: 1.0000 - val_loss: 1.5873\n",
      "Epoch 11/50\n",
      "\u001b[1m22/22\u001b[0m \u001b[32m━━━━━━━━━━━━━━━━━━━━\u001b[0m\u001b[37m\u001b[0m \u001b[1m1s\u001b[0m 39ms/step - accuracy: 0.9233 - loss: 1.6738 - val_accuracy: 1.0000 - val_loss: 1.4891\n",
      "Epoch 12/50\n",
      "\u001b[1m22/22\u001b[0m \u001b[32m━━━━━━━━━━━━━━━━━━━━\u001b[0m\u001b[37m\u001b[0m \u001b[1m1s\u001b[0m 41ms/step - accuracy: 0.9198 - loss: 1.4266 - val_accuracy: 0.8333 - val_loss: 1.3305\n",
      "Epoch 13/50\n",
      "\u001b[1m22/22\u001b[0m \u001b[32m━━━━━━━━━━━━━━━━━━━━\u001b[0m\u001b[37m\u001b[0m \u001b[1m1s\u001b[0m 41ms/step - accuracy: 0.8761 - loss: 1.3308 - val_accuracy: 1.0000 - val_loss: 1.1192\n",
      "Epoch 14/50\n",
      "\u001b[1m22/22\u001b[0m \u001b[32m━━━━━━━━━━━━━━━━━━━━\u001b[0m\u001b[37m\u001b[0m \u001b[1m1s\u001b[0m 56ms/step - accuracy: 0.9115 - loss: 1.1793 - val_accuracy: 1.0000 - val_loss: 1.0821\n",
      "Epoch 15/50\n",
      "\u001b[1m22/22\u001b[0m \u001b[32m━━━━━━━━━━━━━━━━━━━━\u001b[0m\u001b[37m\u001b[0m \u001b[1m1s\u001b[0m 42ms/step - accuracy: 0.9042 - loss: 1.0898 - val_accuracy: 1.0000 - val_loss: 0.9024\n",
      "Epoch 16/50\n",
      "\u001b[1m22/22\u001b[0m \u001b[32m━━━━━━━━━━━━━━━━━━━━\u001b[0m\u001b[37m\u001b[0m \u001b[1m1s\u001b[0m 41ms/step - accuracy: 0.9373 - loss: 1.0270 - val_accuracy: 1.0000 - val_loss: 0.8332\n",
      "Epoch 17/50\n",
      "\u001b[1m22/22\u001b[0m \u001b[32m━━━━━━━━━━━━━━━━━━━━\u001b[0m\u001b[37m\u001b[0m \u001b[1m1s\u001b[0m 40ms/step - accuracy: 0.9614 - loss: 0.8815 - val_accuracy: 1.0000 - val_loss: 0.7723\n",
      "Epoch 18/50\n",
      "\u001b[1m22/22\u001b[0m \u001b[32m━━━━━━━━━━━━━━━━━━━━\u001b[0m\u001b[37m\u001b[0m \u001b[1m1s\u001b[0m 41ms/step - accuracy: 0.9576 - loss: 0.7712 - val_accuracy: 1.0000 - val_loss: 0.6682\n",
      "Epoch 19/50\n",
      "\u001b[1m22/22\u001b[0m \u001b[32m━━━━━━━━━━━━━━━━━━━━\u001b[0m\u001b[37m\u001b[0m \u001b[1m1s\u001b[0m 42ms/step - accuracy: 0.8830 - loss: 0.8214 - val_accuracy: 0.9167 - val_loss: 0.7198\n",
      "Epoch 20/50\n",
      "\u001b[1m22/22\u001b[0m \u001b[32m━━━━━━━━━━━━━━━━━━━━\u001b[0m\u001b[37m\u001b[0m \u001b[1m1s\u001b[0m 40ms/step - accuracy: 0.9047 - loss: 0.8331 - val_accuracy: 1.0000 - val_loss: 0.6753\n",
      "Epoch 21/50\n",
      "\u001b[1m22/22\u001b[0m \u001b[32m━━━━━━━━━━━━━━━━━━━━\u001b[0m\u001b[37m\u001b[0m \u001b[1m1s\u001b[0m 52ms/step - accuracy: 0.9729 - loss: 0.6862 - val_accuracy: 0.8333 - val_loss: 0.7367\n",
      "Epoch 22/50\n",
      "\u001b[1m22/22\u001b[0m \u001b[32m━━━━━━━━━━━━━━━━━━━━\u001b[0m\u001b[37m\u001b[0m \u001b[1m1s\u001b[0m 42ms/step - accuracy: 0.9107 - loss: 0.8204 - val_accuracy: 1.0000 - val_loss: 0.6561\n",
      "Epoch 23/50\n",
      "\u001b[1m22/22\u001b[0m \u001b[32m━━━━━━━━━━━━━━━━━━━━\u001b[0m\u001b[37m\u001b[0m \u001b[1m1s\u001b[0m 41ms/step - accuracy: 0.9582 - loss: 0.6150 - val_accuracy: 1.0000 - val_loss: 0.5633\n",
      "Epoch 24/50\n",
      "\u001b[1m22/22\u001b[0m \u001b[32m━━━━━━━━━━━━━━━━━━━━\u001b[0m\u001b[37m\u001b[0m \u001b[1m1s\u001b[0m 44ms/step - accuracy: 0.9053 - loss: 0.6091 - val_accuracy: 1.0000 - val_loss: 0.5063\n",
      "Epoch 25/50\n",
      "\u001b[1m22/22\u001b[0m \u001b[32m━━━━━━━━━━━━━━━━━━━━\u001b[0m\u001b[37m\u001b[0m \u001b[1m1s\u001b[0m 55ms/step - accuracy: 0.9530 - loss: 0.5682 - val_accuracy: 1.0000 - val_loss: 0.5279\n",
      "Epoch 26/50\n",
      "\u001b[1m22/22\u001b[0m \u001b[32m━━━━━━━━━━━━━━━━━━━━\u001b[0m\u001b[37m\u001b[0m \u001b[1m1s\u001b[0m 41ms/step - accuracy: 0.9243 - loss: 0.6219 - val_accuracy: 1.0000 - val_loss: 0.4962\n",
      "Epoch 27/50\n",
      "\u001b[1m22/22\u001b[0m \u001b[32m━━━━━━━━━━━━━━━━━━━━\u001b[0m\u001b[37m\u001b[0m \u001b[1m1s\u001b[0m 47ms/step - accuracy: 0.8840 - loss: 0.6153 - val_accuracy: 1.0000 - val_loss: 0.4919\n",
      "Epoch 28/50\n",
      "\u001b[1m22/22\u001b[0m \u001b[32m━━━━━━━━━━━━━━━━━━━━\u001b[0m\u001b[37m\u001b[0m \u001b[1m1s\u001b[0m 51ms/step - accuracy: 0.9712 - loss: 0.5247 - val_accuracy: 1.0000 - val_loss: 0.4452\n",
      "Epoch 29/50\n",
      "\u001b[1m22/22\u001b[0m \u001b[32m━━━━━━━━━━━━━━━━━━━━\u001b[0m\u001b[37m\u001b[0m \u001b[1m1s\u001b[0m 42ms/step - accuracy: 0.9503 - loss: 0.5056 - val_accuracy: 1.0000 - val_loss: 0.4133\n",
      "Epoch 30/50\n",
      "\u001b[1m22/22\u001b[0m \u001b[32m━━━━━━━━━━━━━━━━━━━━\u001b[0m\u001b[37m\u001b[0m \u001b[1m1s\u001b[0m 46ms/step - accuracy: 0.9751 - loss: 0.4414 - val_accuracy: 1.0000 - val_loss: 0.4314\n",
      "Epoch 31/50\n",
      "\u001b[1m22/22\u001b[0m \u001b[32m━━━━━━━━━━━━━━━━━━━━\u001b[0m\u001b[37m\u001b[0m \u001b[1m1s\u001b[0m 41ms/step - accuracy: 0.9510 - loss: 0.4552 - val_accuracy: 1.0000 - val_loss: 0.3737\n",
      "Epoch 32/50\n",
      "\u001b[1m22/22\u001b[0m \u001b[32m━━━━━━━━━━━━━━━━━━━━\u001b[0m\u001b[37m\u001b[0m \u001b[1m1s\u001b[0m 42ms/step - accuracy: 0.9749 - loss: 0.4268 - val_accuracy: 0.9167 - val_loss: 0.4086\n",
      "Epoch 33/50\n",
      "\u001b[1m22/22\u001b[0m \u001b[32m━━━━━━━━━━━━━━━━━━━━\u001b[0m\u001b[37m\u001b[0m \u001b[1m1s\u001b[0m 43ms/step - accuracy: 0.9180 - loss: 0.4910 - val_accuracy: 1.0000 - val_loss: 0.3462\n",
      "Epoch 34/50\n",
      "\u001b[1m22/22\u001b[0m \u001b[32m━━━━━━━━━━━━━━━━━━━━\u001b[0m\u001b[37m\u001b[0m \u001b[1m1s\u001b[0m 41ms/step - accuracy: 0.9468 - loss: 0.4845 - val_accuracy: 1.0000 - val_loss: 0.3771\n",
      "Epoch 35/50\n",
      "\u001b[1m22/22\u001b[0m \u001b[32m━━━━━━━━━━━━━━━━━━━━\u001b[0m\u001b[37m\u001b[0m \u001b[1m1s\u001b[0m 41ms/step - accuracy: 0.9186 - loss: 0.4565 - val_accuracy: 1.0000 - val_loss: 0.3738\n",
      "Epoch 36/50\n",
      "\u001b[1m22/22\u001b[0m \u001b[32m━━━━━━━━━━━━━━━━━━━━\u001b[0m\u001b[37m\u001b[0m \u001b[1m1s\u001b[0m 41ms/step - accuracy: 0.9299 - loss: 0.4450 - val_accuracy: 1.0000 - val_loss: 0.3583\n",
      "Epoch 37/50\n",
      "\u001b[1m22/22\u001b[0m \u001b[32m━━━━━━━━━━━━━━━━━━━━\u001b[0m\u001b[37m\u001b[0m \u001b[1m1s\u001b[0m 41ms/step - accuracy: 0.9411 - loss: 0.4467 - val_accuracy: 1.0000 - val_loss: 0.3712\n",
      "Epoch 38/50\n",
      "\u001b[1m22/22\u001b[0m \u001b[32m━━━━━━━━━━━━━━━━━━━━\u001b[0m\u001b[37m\u001b[0m \u001b[1m1s\u001b[0m 41ms/step - accuracy: 0.9149 - loss: 0.4165 - val_accuracy: 1.0000 - val_loss: 0.3137\n",
      "Epoch 39/50\n",
      "\u001b[1m22/22\u001b[0m \u001b[32m━━━━━━━━━━━━━━━━━━━━\u001b[0m\u001b[37m\u001b[0m \u001b[1m1s\u001b[0m 42ms/step - accuracy: 0.9418 - loss: 0.4103 - val_accuracy: 1.0000 - val_loss: 0.3369\n",
      "Epoch 40/50\n",
      "\u001b[1m22/22\u001b[0m \u001b[32m━━━━━━━━━━━━━━━━━━━━\u001b[0m\u001b[37m\u001b[0m \u001b[1m1s\u001b[0m 51ms/step - accuracy: 0.8972 - loss: 0.4693 - val_accuracy: 1.0000 - val_loss: 0.3311\n",
      "Epoch 41/50\n",
      "\u001b[1m22/22\u001b[0m \u001b[32m━━━━━━━━━━━━━━━━━━━━\u001b[0m\u001b[37m\u001b[0m \u001b[1m1s\u001b[0m 42ms/step - accuracy: 0.9449 - loss: 0.3937 - val_accuracy: 1.0000 - val_loss: 0.3351\n",
      "Epoch 42/50\n",
      "\u001b[1m22/22\u001b[0m \u001b[32m━━━━━━━━━━━━━━━━━━━━\u001b[0m\u001b[37m\u001b[0m \u001b[1m1s\u001b[0m 41ms/step - accuracy: 0.9734 - loss: 0.3527 - val_accuracy: 1.0000 - val_loss: 0.2875\n",
      "Epoch 43/50\n",
      "\u001b[1m22/22\u001b[0m \u001b[32m━━━━━━━━━━━━━━━━━━━━\u001b[0m\u001b[37m\u001b[0m \u001b[1m1s\u001b[0m 41ms/step - accuracy: 0.9919 - loss: 0.3113 - val_accuracy: 1.0000 - val_loss: 0.2726\n",
      "Epoch 44/50\n",
      "\u001b[1m22/22\u001b[0m \u001b[32m━━━━━━━━━━━━━━━━━━━━\u001b[0m\u001b[37m\u001b[0m \u001b[1m1s\u001b[0m 42ms/step - accuracy: 0.8972 - loss: 0.4076 - val_accuracy: 1.0000 - val_loss: 0.2820\n",
      "Epoch 45/50\n",
      "\u001b[1m22/22\u001b[0m \u001b[32m━━━━━━━━━━━━━━━━━━━━\u001b[0m\u001b[37m\u001b[0m \u001b[1m1s\u001b[0m 45ms/step - accuracy: 0.9311 - loss: 0.3771 - val_accuracy: 1.0000 - val_loss: 0.2973\n",
      "Epoch 46/50\n",
      "\u001b[1m22/22\u001b[0m \u001b[32m━━━━━━━━━━━━━━━━━━━━\u001b[0m\u001b[37m\u001b[0m \u001b[1m1s\u001b[0m 42ms/step - accuracy: 0.9624 - loss: 0.3720 - val_accuracy: 1.0000 - val_loss: 0.2775\n",
      "Epoch 47/50\n",
      "\u001b[1m22/22\u001b[0m \u001b[32m━━━━━━━━━━━━━━━━━━━━\u001b[0m\u001b[37m\u001b[0m \u001b[1m1s\u001b[0m 41ms/step - accuracy: 0.9164 - loss: 0.4055 - val_accuracy: 1.0000 - val_loss: 0.2866\n",
      "Epoch 48/50\n",
      "\u001b[1m22/22\u001b[0m \u001b[32m━━━━━━━━━━━━━━━━━━━━\u001b[0m\u001b[37m\u001b[0m \u001b[1m1s\u001b[0m 40ms/step - accuracy: 0.8908 - loss: 0.4115 - val_accuracy: 0.9167 - val_loss: 0.3182\n",
      "Epoch 49/50\n",
      "\u001b[1m22/22\u001b[0m \u001b[32m━━━━━━━━━━━━━━━━━━━━\u001b[0m\u001b[37m\u001b[0m \u001b[1m1s\u001b[0m 41ms/step - accuracy: 0.8671 - loss: 0.4656 - val_accuracy: 1.0000 - val_loss: 0.3562\n",
      "Epoch 50/50\n",
      "\u001b[1m22/22\u001b[0m \u001b[32m━━━━━━━━━━━━━━━━━━━━\u001b[0m\u001b[37m\u001b[0m \u001b[1m1s\u001b[0m 40ms/step - accuracy: 0.8961 - loss: 0.4521 - val_accuracy: 1.0000 - val_loss: 0.3070\n"
     ]
    }
   ],
   "source": [
    "# Entrenar el modelo\n",
    "history_neurons_1024 = model_neurons_1024.fit(X_train, y_train, epochs=50, batch_size=5, validation_split=0.1)"
   ]
  },
  {
   "cell_type": "code",
   "execution_count": 37,
   "id": "4d66f2d1",
   "metadata": {},
   "outputs": [
    {
     "name": "stdout",
     "output_type": "stream",
     "text": [
      "\u001b[1m1/1\u001b[0m \u001b[32m━━━━━━━━━━━━━━━━━━━━\u001b[0m\u001b[37m\u001b[0m \u001b[1m0s\u001b[0m 28ms/step - accuracy: 0.9667 - loss: 0.3290\n",
      "Precisión en el conjunto de prueba (1024 neuronas en cada capa oculta): 96.67%\n"
     ]
    }
   ],
   "source": [
    "# Evaluar el modelo con 1024 neuronas en cada capa oculta en el conjunto de prueba\n",
    "loss_neurons_1024, accuracy_neurons_1024 = model_neurons_1024.evaluate(X_test, y_test)\n",
    "print(f'Precisión en el conjunto de prueba (1024 neuronas en cada capa oculta): {accuracy_neurons_1024 * 100:.2f}%')\n"
   ]
  },
  {
   "cell_type": "markdown",
   "id": "9832442c",
   "metadata": {},
   "source": [
    "# Resultados y conclusiones"
   ]
  },
  {
   "cell_type": "markdown",
   "id": "a2a354d6",
   "metadata": {},
   "source": [
    "Precisión en el conjunto de prueba (256 neuronas en cada capa oculta): 90.00%"
   ]
  },
  {
   "cell_type": "markdown",
   "id": "f4e460e5",
   "metadata": {},
   "source": [
    "Precisión en el conjunto de prueba (1024 neuronas en cada capa oculta): 96.67%"
   ]
  },
  {
   "cell_type": "markdown",
   "id": "ced98ba0",
   "metadata": {},
   "source": [
    "Esto nos muestra que aumentar el número de neuronas en cada capa oculta, de 256 a 1024, ha mejorado significativamente la precisión del modelo en el conjunto de prueba, alcanzando un impresionante 96.67%."
   ]
  },
  {
   "cell_type": "markdown",
   "id": "aa4ca522",
   "metadata": {},
   "source": [
    "¿Cómo cambia la precisión y la pérdida del modelo con diferentes números de neuronas en las capas ocultas?"
   ]
  },
  {
   "cell_type": "markdown",
   "id": "7c0b206f",
   "metadata": {},
   "source": [
    "Cambiar el número de neuronas en las capas ocultas de un modelo afecta tanto la precisión como la pérdida durante el entrenamiento y la evaluación. Aumentar el número de neuronas generalmente puede mejorar la capacidad del modelo para capturar patrones complejos en los datos, lo que se traduce en una mejora en la precisión y una disminución en la pérdida. Por otro lado, reducir el número de neuronas puede limitar la capacidad del modelo para aprender representaciones complejas, lo que podría resultar en una disminución de la precisión y un aumento en la pérdida."
   ]
  },
  {
   "cell_type": "markdown",
   "id": "21134f97",
   "metadata": {},
   "source": [
    "# Desafio 3"
   ]
  },
  {
   "cell_type": "markdown",
   "id": "9c60e159",
   "metadata": {},
   "source": [
    "# Cambiar el número de épocas a 10"
   ]
  },
  {
   "cell_type": "code",
   "execution_count": 16,
   "id": "8fd5110e",
   "metadata": {},
   "outputs": [],
   "source": [
    "import numpy as np\n",
    "import tensorflow as tf\n",
    "from tensorflow.keras.models import Sequential\n",
    "from tensorflow.keras.layers import Dense, Dropout\n",
    "from tensorflow.keras.utils import to_categorical\n",
    "from sklearn.model_selection import train_test_split\n",
    "from sklearn.datasets import load_iris\n",
    "import matplotlib.pyplot as plt\n"
   ]
  },
  {
   "cell_type": "code",
   "execution_count": 17,
   "id": "a6321297",
   "metadata": {},
   "outputs": [],
   "source": [
    "# Configuración para mostrar gráficos en Jupyter Notebook\n",
    "%matplotlib inline\n",
    "\n",
    "# Cargar el conjunto de datos Iris\n",
    "data = load_iris()\n",
    "X = data.data\n",
    "y = data.target\n",
    "\n",
    "# Convertir las etiquetas a formato one-hot encoding\n",
    "y = to_categorical(y)\n",
    "\n",
    "# Dividir los datos en conjuntos de entrenamiento y prueba\n",
    "X_train, X_test, y_train, y_test = train_test_split(X, y, test_size=0.2, random_state=42)"
   ]
  },
  {
   "cell_type": "code",
   "execution_count": 18,
   "id": "71f3e1ee",
   "metadata": {},
   "outputs": [],
   "source": [
    "\n",
    "from tensorflow.keras.regularizers import l2\n",
    "\n",
    "# Función para crear el modelo\n",
    "def create_model():\n",
    "    model = Sequential()\n",
    "    model.add(Dense(10, input_dim=4, activation='relu', kernel_regularizer=l2(0.01)))  # Regularización L2 en la capa de entrada\n",
    "    model.add(Dropout(0.5))  # Dropout con tasa del 50%\n",
    "    model.add(Dense(10, activation='relu', kernel_regularizer=l2(0.01)))  # Regularización L2 en la capa oculta\n",
    "    model.add(Dropout(0.5))\n",
    "    model.add(Dense(10, activation='relu', kernel_regularizer=l2(0.01)))  # Regularización L2 en la capa oculta\n",
    "    model.add(Dropout(0.5))\n",
    "    model.add(Dense(3, activation='softmax'))  # Capa de salida\n",
    "\n",
    "    # Compilar el modelo\n",
    "    model.compile(optimizer='adam', loss='categorical_crossentropy', metrics=['accuracy'])\n",
    "    return model"
   ]
  },
  {
   "cell_type": "code",
   "execution_count": 26,
   "id": "4c984231",
   "metadata": {},
   "outputs": [
    {
     "name": "stdout",
     "output_type": "stream",
     "text": [
      "Epoch 1/10\n",
      "\u001b[1m22/22\u001b[0m \u001b[32m━━━━━━━━━━━━━━━━━━━━\u001b[0m\u001b[37m\u001b[0m \u001b[1m2s\u001b[0m 13ms/step - accuracy: 0.3330 - loss: 4.5519 - val_accuracy: 0.4167 - val_loss: 2.7147\n",
      "Epoch 2/10\n",
      "\u001b[1m22/22\u001b[0m \u001b[32m━━━━━━━━━━━━━━━━━━━━\u001b[0m\u001b[37m\u001b[0m \u001b[1m0s\u001b[0m 4ms/step - accuracy: 0.3683 - loss: 3.0617 - val_accuracy: 0.4167 - val_loss: 2.3560\n",
      "Epoch 3/10\n",
      "\u001b[1m22/22\u001b[0m \u001b[32m━━━━━━━━━━━━━━━━━━━━\u001b[0m\u001b[37m\u001b[0m \u001b[1m0s\u001b[0m 5ms/step - accuracy: 0.3143 - loss: 3.1239 - val_accuracy: 0.4167 - val_loss: 2.0465\n",
      "Epoch 4/10\n",
      "\u001b[1m22/22\u001b[0m \u001b[32m━━━━━━━━━━━━━━━━━━━━\u001b[0m\u001b[37m\u001b[0m \u001b[1m0s\u001b[0m 4ms/step - accuracy: 0.2193 - loss: 3.4230 - val_accuracy: 0.4167 - val_loss: 1.8280\n",
      "Epoch 5/10\n",
      "\u001b[1m22/22\u001b[0m \u001b[32m━━━━━━━━━━━━━━━━━━━━\u001b[0m\u001b[37m\u001b[0m \u001b[1m0s\u001b[0m 4ms/step - accuracy: 0.3557 - loss: 2.6271 - val_accuracy: 0.4167 - val_loss: 1.6672\n",
      "Epoch 6/10\n",
      "\u001b[1m22/22\u001b[0m \u001b[32m━━━━━━━━━━━━━━━━━━━━\u001b[0m\u001b[37m\u001b[0m \u001b[1m0s\u001b[0m 4ms/step - accuracy: 0.2768 - loss: 1.9364 - val_accuracy: 0.4167 - val_loss: 1.5587\n",
      "Epoch 7/10\n",
      "\u001b[1m22/22\u001b[0m \u001b[32m━━━━━━━━━━━━━━━━━━━━\u001b[0m\u001b[37m\u001b[0m \u001b[1m0s\u001b[0m 4ms/step - accuracy: 0.2420 - loss: 2.0843 - val_accuracy: 0.4167 - val_loss: 1.4734\n",
      "Epoch 8/10\n",
      "\u001b[1m22/22\u001b[0m \u001b[32m━━━━━━━━━━━━━━━━━━━━\u001b[0m\u001b[37m\u001b[0m \u001b[1m0s\u001b[0m 4ms/step - accuracy: 0.3170 - loss: 1.7218 - val_accuracy: 0.4167 - val_loss: 1.4128\n",
      "Epoch 9/10\n",
      "\u001b[1m22/22\u001b[0m \u001b[32m━━━━━━━━━━━━━━━━━━━━\u001b[0m\u001b[37m\u001b[0m \u001b[1m0s\u001b[0m 4ms/step - accuracy: 0.3457 - loss: 1.7760 - val_accuracy: 0.4167 - val_loss: 1.3551\n",
      "Epoch 10/10\n",
      "\u001b[1m22/22\u001b[0m \u001b[32m━━━━━━━━━━━━━━━━━━━━\u001b[0m\u001b[37m\u001b[0m \u001b[1m0s\u001b[0m 4ms/step - accuracy: 0.3736 - loss: 1.6079 - val_accuracy: 0.4167 - val_loss: 1.3154\n",
      "\u001b[1m1/1\u001b[0m \u001b[32m━━━━━━━━━━━━━━━━━━━━\u001b[0m\u001b[37m\u001b[0m \u001b[1m0s\u001b[0m 30ms/step - accuracy: 0.3000 - loss: 1.3680\n",
      "Precisión en el conjunto de prueba con 10 épocas: 30.00%\n"
     ]
    }
   ],
   "source": [
    "# Entrenar el modelo durante 10 épocas\n",
    "model_10_epochs = create_model()\n",
    "history_10_epochs = model_10_epochs.fit(X_train, y_train, epochs=10, batch_size=5, validation_split=0.1)\n",
    "# Evaluar el modelo en el conjunto de prueba\n",
    "loss_10_epochs, accuracy_10_epochs = model_10_epochs.evaluate(X_test, y_test)\n",
    "print(f'Precisión en el conjunto de prueba con 10 épocas: {accuracy_10_epochs * 100:.2f}%')"
   ]
  },
  {
   "cell_type": "code",
   "execution_count": 27,
   "id": "ba04f193",
   "metadata": {},
   "outputs": [
    {
     "data": {
      "image/png": "[encoded data removed]",
      "text/plain": [
       "<Figure size 640x480 with 1 Axes>"
      ]
     },
     "metadata": {},
     "output_type": "display_data"
    }
   ],
   "source": [
    "# Graficar la precisión con 10 épocas\n",
    "plt.plot(history_10_epochs.history['accuracy'], label='Precisión de entrenamiento')\n",
    "plt.plot(history_10_epochs.history['val_accuracy'], label='Precisión de validación')\n",
    "plt.xlabel('Épocas')\n",
    "plt.ylabel('Precisión')\n",
    "plt.legend()\n",
    "plt.title('Precisión con 10 épocas')\n",
    "plt.show()"
   ]
  },
  {
   "cell_type": "code",
   "execution_count": 28,
   "id": "4ddd7f23",
   "metadata": {},
   "outputs": [
    {
     "data": {
      "image/png": "[encoded data removed]",
      "text/plain": [
       "<Figure size 640x480 with 1 Axes>"
      ]
     },
     "metadata": {},
     "output_type": "display_data"
    }
   ],
   "source": [
    "# Graficar la pérdida con 10 épocas\n",
    "plt.plot(history_10_epochs.history['loss'], label='Pérdida de entrenamiento')\n",
    "plt.plot(history_10_epochs.history['val_loss'], label='Pérdida de validación')\n",
    "plt.xlabel('Épocas')\n",
    "plt.ylabel('Pérdida')\n",
    "plt.legend()\n",
    "plt.title('Pérdida con 10 épocas')\n",
    "plt.show()"
   ]
  },
  {
   "cell_type": "markdown",
   "id": "d88f54b9",
   "metadata": {},
   "source": [
    "# Cambiar el número de épocas a 30"
   ]
  },
  {
   "cell_type": "code",
   "execution_count": 25,
   "id": "dbc291b2",
   "metadata": {},
   "outputs": [
    {
     "name": "stdout",
     "output_type": "stream",
     "text": [
      "Epoch 1/30\n",
      "\u001b[1m22/22\u001b[0m \u001b[32m━━━━━━━━━━━━━━━━━━━━\u001b[0m\u001b[37m\u001b[0m \u001b[1m2s\u001b[0m 12ms/step - accuracy: 0.3283 - loss: 3.0495 - val_accuracy: 0.4167 - val_loss: 1.8609\n",
      "Epoch 2/30\n",
      "\u001b[1m22/22\u001b[0m \u001b[32m━━━━━━━━━━━━━━━━━━━━\u001b[0m\u001b[37m\u001b[0m \u001b[1m0s\u001b[0m 3ms/step - accuracy: 0.3455 - loss: 2.3832 - val_accuracy: 0.4167 - val_loss: 1.7063\n",
      "Epoch 3/30\n",
      "\u001b[1m22/22\u001b[0m \u001b[32m━━━━━━━━━━━━━━━━━━━━\u001b[0m\u001b[37m\u001b[0m \u001b[1m0s\u001b[0m 3ms/step - accuracy: 0.3516 - loss: 2.6777 - val_accuracy: 0.4167 - val_loss: 1.5759\n",
      "Epoch 4/30\n",
      "\u001b[1m22/22\u001b[0m \u001b[32m━━━━━━━━━━━━━━━━━━━━\u001b[0m\u001b[37m\u001b[0m \u001b[1m0s\u001b[0m 4ms/step - accuracy: 0.2867 - loss: 2.1271 - val_accuracy: 0.4167 - val_loss: 1.5041\n",
      "Epoch 5/30\n",
      "\u001b[1m22/22\u001b[0m \u001b[32m━━━━━━━━━━━━━━━━━━━━\u001b[0m\u001b[37m\u001b[0m \u001b[1m0s\u001b[0m 3ms/step - accuracy: 0.2084 - loss: 2.5857 - val_accuracy: 0.4167 - val_loss: 1.4419\n",
      "Epoch 6/30\n",
      "\u001b[1m22/22\u001b[0m \u001b[32m━━━━━━━━━━━━━━━━━━━━\u001b[0m\u001b[37m\u001b[0m \u001b[1m0s\u001b[0m 3ms/step - accuracy: 0.1331 - loss: 2.4119 - val_accuracy: 0.3333 - val_loss: 1.4011\n",
      "Epoch 7/30\n",
      "\u001b[1m22/22\u001b[0m \u001b[32m━━━━━━━━━━━━━━━━━━━━\u001b[0m\u001b[37m\u001b[0m \u001b[1m0s\u001b[0m 3ms/step - accuracy: 0.2616 - loss: 1.6563 - val_accuracy: 0.2500 - val_loss: 1.3869\n",
      "Epoch 8/30\n",
      "\u001b[1m22/22\u001b[0m \u001b[32m━━━━━━━━━━━━━━━━━━━━\u001b[0m\u001b[37m\u001b[0m \u001b[1m0s\u001b[0m 3ms/step - accuracy: 0.2453 - loss: 2.0453 - val_accuracy: 0.1667 - val_loss: 1.3749\n",
      "Epoch 9/30\n",
      "\u001b[1m22/22\u001b[0m \u001b[32m━━━━━━━━━━━━━━━━━━━━\u001b[0m\u001b[37m\u001b[0m \u001b[1m0s\u001b[0m 3ms/step - accuracy: 0.2889 - loss: 1.6274 - val_accuracy: 0.1667 - val_loss: 1.3562\n",
      "Epoch 10/30\n",
      "\u001b[1m22/22\u001b[0m \u001b[32m━━━━━━━━━━━━━━━━━━━━\u001b[0m\u001b[37m\u001b[0m \u001b[1m0s\u001b[0m 3ms/step - accuracy: 0.3237 - loss: 1.7751 - val_accuracy: 0.0833 - val_loss: 1.3303\n",
      "Epoch 11/30\n",
      "\u001b[1m22/22\u001b[0m \u001b[32m━━━━━━━━━━━━━━━━━━━━\u001b[0m\u001b[37m\u001b[0m \u001b[1m0s\u001b[0m 3ms/step - accuracy: 0.3254 - loss: 1.5491 - val_accuracy: 0.0000e+00 - val_loss: 1.3172\n",
      "Epoch 12/30\n",
      "\u001b[1m22/22\u001b[0m \u001b[32m━━━━━━━━━━━━━━━━━━━━\u001b[0m\u001b[37m\u001b[0m \u001b[1m0s\u001b[0m 3ms/step - accuracy: 0.3165 - loss: 1.4556 - val_accuracy: 0.0000e+00 - val_loss: 1.2994\n",
      "Epoch 13/30\n",
      "\u001b[1m22/22\u001b[0m \u001b[32m━━━━━━━━━━━━━━━━━━━━\u001b[0m\u001b[37m\u001b[0m \u001b[1m0s\u001b[0m 3ms/step - accuracy: 0.3313 - loss: 1.3095 - val_accuracy: 0.0000e+00 - val_loss: 1.2863\n",
      "Epoch 14/30\n",
      "\u001b[1m22/22\u001b[0m \u001b[32m━━━━━━━━━━━━━━━━━━━━\u001b[0m\u001b[37m\u001b[0m \u001b[1m0s\u001b[0m 3ms/step - accuracy: 0.3713 - loss: 1.2935 - val_accuracy: 0.0000e+00 - val_loss: 1.2738\n",
      "Epoch 15/30\n",
      "\u001b[1m22/22\u001b[0m \u001b[32m━━━━━━━━━━━━━━━━━━━━\u001b[0m\u001b[37m\u001b[0m \u001b[1m0s\u001b[0m 3ms/step - accuracy: 0.3329 - loss: 1.2547 - val_accuracy: 0.0000e+00 - val_loss: 1.2617\n",
      "Epoch 16/30\n",
      "\u001b[1m22/22\u001b[0m \u001b[32m━━━━━━━━━━━━━━━━━━━━\u001b[0m\u001b[37m\u001b[0m \u001b[1m0s\u001b[0m 3ms/step - accuracy: 0.2902 - loss: 1.2176 - val_accuracy: 0.1667 - val_loss: 1.2498\n",
      "Epoch 17/30\n",
      "\u001b[1m22/22\u001b[0m \u001b[32m━━━━━━━━━━━━━━━━━━━━\u001b[0m\u001b[37m\u001b[0m \u001b[1m0s\u001b[0m 3ms/step - accuracy: 0.3874 - loss: 1.2448 - val_accuracy: 0.4167 - val_loss: 1.2384\n",
      "Epoch 18/30\n",
      "\u001b[1m22/22\u001b[0m \u001b[32m━━━━━━━━━━━━━━━━━━━━\u001b[0m\u001b[37m\u001b[0m \u001b[1m0s\u001b[0m 3ms/step - accuracy: 0.4861 - loss: 1.2386 - val_accuracy: 0.5000 - val_loss: 1.2215\n",
      "Epoch 19/30\n",
      "\u001b[1m22/22\u001b[0m \u001b[32m━━━━━━━━━━━━━━━━━━━━\u001b[0m\u001b[37m\u001b[0m \u001b[1m0s\u001b[0m 3ms/step - accuracy: 0.4506 - loss: 1.2646 - val_accuracy: 0.5000 - val_loss: 1.2124\n",
      "Epoch 20/30\n",
      "\u001b[1m22/22\u001b[0m \u001b[32m━━━━━━━━━━━━━━━━━━━━\u001b[0m\u001b[37m\u001b[0m \u001b[1m0s\u001b[0m 4ms/step - accuracy: 0.3949 - loss: 1.2122 - val_accuracy: 0.5833 - val_loss: 1.1995\n",
      "Epoch 21/30\n",
      "\u001b[1m22/22\u001b[0m \u001b[32m━━━━━━━━━━━━━━━━━━━━\u001b[0m\u001b[37m\u001b[0m \u001b[1m0s\u001b[0m 3ms/step - accuracy: 0.4260 - loss: 1.2247 - val_accuracy: 0.5833 - val_loss: 1.1961\n",
      "Epoch 22/30\n",
      "\u001b[1m22/22\u001b[0m \u001b[32m━━━━━━━━━━━━━━━━━━━━\u001b[0m\u001b[37m\u001b[0m \u001b[1m0s\u001b[0m 3ms/step - accuracy: 0.3637 - loss: 1.2423 - val_accuracy: 0.5833 - val_loss: 1.1953\n",
      "Epoch 23/30\n",
      "\u001b[1m22/22\u001b[0m \u001b[32m━━━━━━━━━━━━━━━━━━━━\u001b[0m\u001b[37m\u001b[0m \u001b[1m0s\u001b[0m 4ms/step - accuracy: 0.5186 - loss: 1.1164 - val_accuracy: 0.5833 - val_loss: 1.1907\n",
      "Epoch 24/30\n",
      "\u001b[1m22/22\u001b[0m \u001b[32m━━━━━━━━━━━━━━━━━━━━\u001b[0m\u001b[37m\u001b[0m \u001b[1m0s\u001b[0m 3ms/step - accuracy: 0.5195 - loss: 1.1726 - val_accuracy: 0.5833 - val_loss: 1.1856\n",
      "Epoch 25/30\n",
      "\u001b[1m22/22\u001b[0m \u001b[32m━━━━━━━━━━━━━━━━━━━━\u001b[0m\u001b[37m\u001b[0m \u001b[1m0s\u001b[0m 3ms/step - accuracy: 0.5536 - loss: 1.0987 - val_accuracy: 0.5833 - val_loss: 1.1792\n",
      "Epoch 26/30\n",
      "\u001b[1m22/22\u001b[0m \u001b[32m━━━━━━━━━━━━━━━━━━━━\u001b[0m\u001b[37m\u001b[0m \u001b[1m0s\u001b[0m 4ms/step - accuracy: 0.4857 - loss: 1.1346 - val_accuracy: 0.5833 - val_loss: 1.1637\n",
      "Epoch 27/30\n",
      "\u001b[1m22/22\u001b[0m \u001b[32m━━━━━━━━━━━━━━━━━━━━\u001b[0m\u001b[37m\u001b[0m \u001b[1m0s\u001b[0m 3ms/step - accuracy: 0.4957 - loss: 1.2197 - val_accuracy: 0.5833 - val_loss: 1.1642\n",
      "Epoch 28/30\n",
      "\u001b[1m22/22\u001b[0m \u001b[32m━━━━━━━━━━━━━━━━━━━━\u001b[0m\u001b[37m\u001b[0m \u001b[1m0s\u001b[0m 3ms/step - accuracy: 0.5725 - loss: 1.2071 - val_accuracy: 0.5833 - val_loss: 1.1614\n",
      "Epoch 29/30\n",
      "\u001b[1m22/22\u001b[0m \u001b[32m━━━━━━━━━━━━━━━━━━━━\u001b[0m\u001b[37m\u001b[0m \u001b[1m0s\u001b[0m 3ms/step - accuracy: 0.5556 - loss: 1.1019 - val_accuracy: 0.5833 - val_loss: 1.1605\n",
      "Epoch 30/30\n",
      "\u001b[1m22/22\u001b[0m \u001b[32m━━━━━━━━━━━━━━━━━━━━\u001b[0m\u001b[37m\u001b[0m \u001b[1m0s\u001b[0m 3ms/step - accuracy: 0.4584 - loss: 1.1455 - val_accuracy: 0.5833 - val_loss: 1.1514\n",
      "\u001b[1m1/1\u001b[0m \u001b[32m━━━━━━━━━━━━━━━━━━━━\u001b[0m\u001b[37m\u001b[0m \u001b[1m0s\u001b[0m 27ms/step - accuracy: 0.7000 - loss: 1.1140\n",
      "Precisión en el conjunto de prueba con 30 épocas: 70.00%\n"
     ]
    }
   ],
   "source": [
    "# Entrenar el modelo durante 30 épocas\n",
    "model_30_epochs = create_model()\n",
    "history_30_epochs = model_30_epochs.fit(X_train, y_train, epochs=30, batch_size=5, validation_split=0.1)\n",
    "# Evaluar el modelo en el conjunto de prueba\n",
    "loss_30_epochs, accuracy_30_epochs = model_30_epochs.evaluate(X_test, y_test)\n",
    "print(f'Precisión en el conjunto de prueba con 30 épocas: {accuracy_30_epochs * 100:.2f}%')"
   ]
  },
  {
   "cell_type": "code",
   "execution_count": 29,
   "id": "e7ac8228",
   "metadata": {},
   "outputs": [
    {
     "data": {
      "image/png": "[encoded data removed]",
      "text/plain": [
       "<Figure size 640x480 with 1 Axes>"
      ]
     },
     "metadata": {},
     "output_type": "display_data"
    }
   ],
   "source": [
    "# Graficar la precisión con 30 épocas\n",
    "plt.plot(history_30_epochs.history['accuracy'], label='Precisión de entrenamiento')\n",
    "plt.plot(history_30_epochs.history['val_accuracy'], label='Precisión de validación')\n",
    "plt.xlabel('Épocas')\n",
    "plt.ylabel('Precisión')\n",
    "plt.legend()\n",
    "plt.title('Precisión con 30 épocas')\n",
    "plt.show()"
   ]
  },
  {
   "cell_type": "code",
   "execution_count": 30,
   "id": "c6839847",
   "metadata": {},
   "outputs": [
    {
     "data": {
      "image/png": "[encoded data removed]",
      "text/plain": [
       "<Figure size 640x480 with 1 Axes>"
      ]
     },
     "metadata": {},
     "output_type": "display_data"
    }
   ],
   "source": [
    "# Graficar la pérdida con 30 épocas\n",
    "plt.plot(history_30_epochs.history['loss'], label='Pérdida de entrenamiento')\n",
    "plt.plot(history_30_epochs.history['val_loss'], label='Pérdida de validación')\n",
    "plt.xlabel('Épocas')\n",
    "plt.ylabel('Pérdida')\n",
    "plt.legend()\n",
    "plt.title('Pérdida con 30 épocas')\n",
    "plt.show()"
   ]
  },
  {
   "cell_type": "markdown",
   "id": "3f1e037a",
   "metadata": {},
   "source": [
    "# Resultados y conclusiones"
   ]
  },
  {
   "cell_type": "markdown",
   "id": "79ed5756",
   "metadata": {},
   "source": [
    "Con 10 épocas, la precisión en el conjunto de prueba fue del 30 y la pérdida fue de 1.3680."
   ]
  },
  {
   "cell_type": "markdown",
   "id": "ba15ba9b",
   "metadata": {},
   "source": [
    "Con 30 épocas, la precisión en el conjunto de prueba aumentó al 70% y la pérdida fue de 1.1140."
   ]
  },
  {
   "cell_type": "markdown",
   "id": "a2aaa865",
   "metadata": {},
   "source": [
    "La pérdida en el conjunto de prueba disminuyó de 1.3680 a 1.1140 cuando se incrementó el número de épocas de 10 a 30.\n",
    "Esto indica que el modelo está mejorando su capacidad para predecir correctamente a medida que se entrena por más tiempo."
   ]
  },
  {
   "cell_type": "markdown",
   "id": "5cbf8efe",
   "metadata": {},
   "source": [
    "¿Cómo afecta el número de épocas a la precisión y la pérdida del modelo durante el entrenamiento y la validación? ¿Observa algún signo de sobreajuste o subajuste?"
   ]
  },
  {
   "cell_type": "markdown",
   "id": "f811ef4f",
   "metadata": {},
   "source": [
    "En el Entrenamiento con 10 épocas es posible que el modelo no haya tenido suficiente tiempo para aprender adecuadamente los patrones en los datos de entrenamiento, mientras que en el entrenamiento de 30 epocas, el modelo ha tenido más tiempo para aprender y ajustar sus pesos, lo que resulta en una mejor capacidad predictiva.\n",
    "\n",
    "En el entrenamiento de 10 épocas existe una pérdida alta que indica que el modelo todavía tiene margen para mejorar su ajuste a los datos de entrenamiento y en el entrenamiento de 30 épocas la reducción en la pérdida sugiere que el modelo ha mejorado su ajuste y predicción de los datos.\n",
    "\n",
    "Se observa que en lo 2 métodos existe el subajuste ya que existen altas perdidas tanto en entrenamiento como en validación."
   ]
  },
  {
   "cell_type": "markdown",
   "id": "af605b9b",
   "metadata": {},
   "source": [
    "# Desafio 4"
   ]
  },
  {
   "cell_type": "markdown",
   "id": "c3526fc3",
   "metadata": {},
   "source": [
    "# Función de Activación Sigmoid"
   ]
  },
  {
   "cell_type": "code",
   "execution_count": 5,
   "id": "8e0c69e4",
   "metadata": {},
   "outputs": [],
   "source": [
    "import numpy as np\n",
    "import tensorflow as tf\n",
    "from tensorflow.keras.models import Sequential\n",
    "from tensorflow.keras.layers import Dense, Dropout\n",
    "from tensorflow.keras.utils import to_categorical\n",
    "from tensorflow.keras.regularizers import l2\n",
    "from sklearn.model_selection import train_test_split\n",
    "from sklearn.datasets import load_iris\n",
    "import matplotlib.pyplot as plt"
   ]
  },
  {
   "cell_type": "code",
   "execution_count": 6,
   "id": "29167600",
   "metadata": {},
   "outputs": [],
   "source": [
    "# Cargar el conjunto de datos Iris\n",
    "data = load_iris()\n",
    "X = data.data\n",
    "y = data.target\n",
    "\n",
    "# Convertir las etiquetas a formato one-hot encoding\n",
    "y = to_categorical(y)\n",
    "\n",
    "# Dividir los datos en conjuntos de entrenamiento y prueba\n",
    "X_train, X_test, y_train, y_test = train_test_split(X, y, test_size=0.2, random_state=42)\n"
   ]
  },
  {
   "cell_type": "code",
   "execution_count": 7,
   "id": "89a0ff0d",
   "metadata": {},
   "outputs": [],
   "source": [
    "def create_model_sigmoid():\n",
    "    model = Sequential()\n",
    "    model.add(Dense(10, input_dim=4, activation='sigmoid', kernel_regularizer=l2(0.01)))\n",
    "    model.add(Dropout(0.5))\n",
    "    model.add(Dense(10, activation='sigmoid', kernel_regularizer=l2(0.01)))\n",
    "    model.add(Dropout(0.5))\n",
    "    model.add(Dense(10, activation='sigmoid', kernel_regularizer=l2(0.01)))\n",
    "    model.add(Dropout(0.5))\n",
    "    model.add(Dense(3, activation='softmax'))\n",
    "    model.compile(optimizer='adam', loss='categorical_crossentropy', metrics=['accuracy'])\n",
    "    return model"
   ]
  },
  {
   "cell_type": "code",
   "execution_count": 12,
   "id": "1cdce801",
   "metadata": {},
   "outputs": [
    {
     "name": "stdout",
     "output_type": "stream",
     "text": [
      "Epoch 1/30\n",
      "\u001b[1m22/22\u001b[0m \u001b[32m━━━━━━━━━━━━━━━━━━━━\u001b[0m\u001b[37m\u001b[0m \u001b[1m2s\u001b[0m 13ms/step - accuracy: 0.2925 - loss: 1.6885 - val_accuracy: 0.1667 - val_loss: 1.5397\n",
      "Epoch 2/30\n",
      "\u001b[1m22/22\u001b[0m \u001b[32m━━━━━━━━━━━━━━━━━━━━\u001b[0m\u001b[37m\u001b[0m \u001b[1m0s\u001b[0m 3ms/step - accuracy: 0.3329 - loss: 1.5027 - val_accuracy: 0.1667 - val_loss: 1.4911\n",
      "Epoch 3/30\n",
      "\u001b[1m22/22\u001b[0m \u001b[32m━━━━━━━━━━━━━━━━━━━━\u001b[0m\u001b[37m\u001b[0m \u001b[1m0s\u001b[0m 3ms/step - accuracy: 0.2813 - loss: 1.5208 - val_accuracy: 0.1667 - val_loss: 1.4522\n",
      "Epoch 4/30\n",
      "\u001b[1m22/22\u001b[0m \u001b[32m━━━━━━━━━━━━━━━━━━━━\u001b[0m\u001b[37m\u001b[0m \u001b[1m0s\u001b[0m 3ms/step - accuracy: 0.3562 - loss: 1.4014 - val_accuracy: 0.1667 - val_loss: 1.4283\n",
      "Epoch 5/30\n",
      "\u001b[1m22/22\u001b[0m \u001b[32m━━━━━━━━━━━━━━━━━━━━\u001b[0m\u001b[37m\u001b[0m \u001b[1m0s\u001b[0m 3ms/step - accuracy: 0.3330 - loss: 1.3705 - val_accuracy: 0.1667 - val_loss: 1.4023\n",
      "Epoch 6/30\n",
      "\u001b[1m22/22\u001b[0m \u001b[32m━━━━━━━━━━━━━━━━━━━━\u001b[0m\u001b[37m\u001b[0m \u001b[1m0s\u001b[0m 3ms/step - accuracy: 0.2850 - loss: 1.4664 - val_accuracy: 0.1667 - val_loss: 1.3759\n",
      "Epoch 7/30\n",
      "\u001b[1m22/22\u001b[0m \u001b[32m━━━━━━━━━━━━━━━━━━━━\u001b[0m\u001b[37m\u001b[0m \u001b[1m0s\u001b[0m 2ms/step - accuracy: 0.3507 - loss: 1.4451 - val_accuracy: 0.1667 - val_loss: 1.3552\n",
      "Epoch 8/30\n",
      "\u001b[1m22/22\u001b[0m \u001b[32m━━━━━━━━━━━━━━━━━━━━\u001b[0m\u001b[37m\u001b[0m \u001b[1m0s\u001b[0m 3ms/step - accuracy: 0.2884 - loss: 1.3951 - val_accuracy: 0.1667 - val_loss: 1.3380\n",
      "Epoch 9/30\n",
      "\u001b[1m22/22\u001b[0m \u001b[32m━━━━━━━━━━━━━━━━━━━━\u001b[0m\u001b[37m\u001b[0m \u001b[1m0s\u001b[0m 3ms/step - accuracy: 0.3725 - loss: 1.3754 - val_accuracy: 0.1667 - val_loss: 1.3246\n",
      "Epoch 10/30\n",
      "\u001b[1m22/22\u001b[0m \u001b[32m━━━━━━━━━━━━━━━━━━━━\u001b[0m\u001b[37m\u001b[0m \u001b[1m0s\u001b[0m 3ms/step - accuracy: 0.3021 - loss: 1.4209 - val_accuracy: 0.1667 - val_loss: 1.3098\n",
      "Epoch 11/30\n",
      "\u001b[1m22/22\u001b[0m \u001b[32m━━━━━━━━━━━━━━━━━━━━\u001b[0m\u001b[37m\u001b[0m \u001b[1m0s\u001b[0m 2ms/step - accuracy: 0.3650 - loss: 1.3341 - val_accuracy: 0.1667 - val_loss: 1.2969\n",
      "Epoch 12/30\n",
      "\u001b[1m22/22\u001b[0m \u001b[32m━━━━━━━━━━━━━━━━━━━━\u001b[0m\u001b[37m\u001b[0m \u001b[1m0s\u001b[0m 2ms/step - accuracy: 0.2949 - loss: 1.3680 - val_accuracy: 0.1667 - val_loss: 1.2812\n",
      "Epoch 13/30\n",
      "\u001b[1m22/22\u001b[0m \u001b[32m━━━━━━━━━━━━━━━━━━━━\u001b[0m\u001b[37m\u001b[0m \u001b[1m0s\u001b[0m 3ms/step - accuracy: 0.2933 - loss: 1.3719 - val_accuracy: 0.1667 - val_loss: 1.2737\n",
      "Epoch 14/30\n",
      "\u001b[1m22/22\u001b[0m \u001b[32m━━━━━━━━━━━━━━━━━━━━\u001b[0m\u001b[37m\u001b[0m \u001b[1m0s\u001b[0m 2ms/step - accuracy: 0.2646 - loss: 1.3711 - val_accuracy: 0.1667 - val_loss: 1.2639\n",
      "Epoch 15/30\n",
      "\u001b[1m22/22\u001b[0m \u001b[32m━━━━━━━━━━━━━━━━━━━━\u001b[0m\u001b[37m\u001b[0m \u001b[1m0s\u001b[0m 3ms/step - accuracy: 0.4075 - loss: 1.2339 - val_accuracy: 0.1667 - val_loss: 1.2543\n",
      "Epoch 16/30\n",
      "\u001b[1m22/22\u001b[0m \u001b[32m━━━━━━━━━━━━━━━━━━━━\u001b[0m\u001b[37m\u001b[0m \u001b[1m0s\u001b[0m 3ms/step - accuracy: 0.3040 - loss: 1.3591 - val_accuracy: 0.1667 - val_loss: 1.2375\n",
      "Epoch 17/30\n",
      "\u001b[1m22/22\u001b[0m \u001b[32m━━━━━━━━━━━━━━━━━━━━\u001b[0m\u001b[37m\u001b[0m \u001b[1m0s\u001b[0m 3ms/step - accuracy: 0.2732 - loss: 1.2667 - val_accuracy: 0.1667 - val_loss: 1.2351\n",
      "Epoch 18/30\n",
      "\u001b[1m22/22\u001b[0m \u001b[32m━━━━━━━━━━━━━━━━━━━━\u001b[0m\u001b[37m\u001b[0m \u001b[1m0s\u001b[0m 3ms/step - accuracy: 0.4084 - loss: 1.2060 - val_accuracy: 0.1667 - val_loss: 1.2267\n",
      "Epoch 19/30\n",
      "\u001b[1m22/22\u001b[0m \u001b[32m━━━━━━━━━━━━━━━━━━━━\u001b[0m\u001b[37m\u001b[0m \u001b[1m0s\u001b[0m 2ms/step - accuracy: 0.4174 - loss: 1.1821 - val_accuracy: 0.1667 - val_loss: 1.2198\n",
      "Epoch 20/30\n",
      "\u001b[1m22/22\u001b[0m \u001b[32m━━━━━━━━━━━━━━━━━━━━\u001b[0m\u001b[37m\u001b[0m \u001b[1m0s\u001b[0m 2ms/step - accuracy: 0.3668 - loss: 1.2424 - val_accuracy: 0.1667 - val_loss: 1.2134\n",
      "Epoch 21/30\n",
      "\u001b[1m22/22\u001b[0m \u001b[32m━━━━━━━━━━━━━━━━━━━━\u001b[0m\u001b[37m\u001b[0m \u001b[1m0s\u001b[0m 2ms/step - accuracy: 0.3662 - loss: 1.2251 - val_accuracy: 0.1667 - val_loss: 1.2073\n",
      "Epoch 22/30\n",
      "\u001b[1m22/22\u001b[0m \u001b[32m━━━━━━━━━━━━━━━━━━━━\u001b[0m\u001b[37m\u001b[0m \u001b[1m0s\u001b[0m 3ms/step - accuracy: 0.2930 - loss: 1.2830 - val_accuracy: 0.1667 - val_loss: 1.2071\n",
      "Epoch 23/30\n",
      "\u001b[1m22/22\u001b[0m \u001b[32m━━━━━━━━━━━━━━━━━━━━\u001b[0m\u001b[37m\u001b[0m \u001b[1m0s\u001b[0m 3ms/step - accuracy: 0.3951 - loss: 1.1778 - val_accuracy: 0.1667 - val_loss: 1.2037\n",
      "Epoch 24/30\n",
      "\u001b[1m22/22\u001b[0m \u001b[32m━━━━━━━━━━━━━━━━━━━━\u001b[0m\u001b[37m\u001b[0m \u001b[1m0s\u001b[0m 3ms/step - accuracy: 0.3329 - loss: 1.2720 - val_accuracy: 0.1667 - val_loss: 1.2002\n",
      "Epoch 25/30\n",
      "\u001b[1m22/22\u001b[0m \u001b[32m━━━━━━━━━━━━━━━━━━━━\u001b[0m\u001b[37m\u001b[0m \u001b[1m0s\u001b[0m 2ms/step - accuracy: 0.3481 - loss: 1.1901 - val_accuracy: 0.1667 - val_loss: 1.1961\n",
      "Epoch 26/30\n",
      "\u001b[1m22/22\u001b[0m \u001b[32m━━━━━━━━━━━━━━━━━━━━\u001b[0m\u001b[37m\u001b[0m \u001b[1m0s\u001b[0m 2ms/step - accuracy: 0.3732 - loss: 1.2289 - val_accuracy: 0.1667 - val_loss: 1.1929\n",
      "Epoch 27/30\n",
      "\u001b[1m22/22\u001b[0m \u001b[32m━━━━━━━━━━━━━━━━━━━━\u001b[0m\u001b[37m\u001b[0m \u001b[1m0s\u001b[0m 3ms/step - accuracy: 0.3417 - loss: 1.2008 - val_accuracy: 0.1667 - val_loss: 1.1865\n",
      "Epoch 28/30\n",
      "\u001b[1m22/22\u001b[0m \u001b[32m━━━━━━━━━━━━━━━━━━━━\u001b[0m\u001b[37m\u001b[0m \u001b[1m0s\u001b[0m 3ms/step - accuracy: 0.4063 - loss: 1.1637 - val_accuracy: 0.1667 - val_loss: 1.1826\n",
      "Epoch 29/30\n",
      "\u001b[1m22/22\u001b[0m \u001b[32m━━━━━━━━━━━━━━━━━━━━\u001b[0m\u001b[37m\u001b[0m \u001b[1m0s\u001b[0m 3ms/step - accuracy: 0.3433 - loss: 1.2005 - val_accuracy: 0.1667 - val_loss: 1.1783\n",
      "Epoch 30/30\n",
      "\u001b[1m22/22\u001b[0m \u001b[32m━━━━━━━━━━━━━━━━━━━━\u001b[0m\u001b[37m\u001b[0m \u001b[1m0s\u001b[0m 3ms/step - accuracy: 0.3185 - loss: 1.1817 - val_accuracy: 0.1667 - val_loss: 1.1755\n"
     ]
    }
   ],
   "source": [
    "# Entrenar el modelo con función de activación sigmoid\n",
    "model_sigmoid = create_model_sigmoid()\n",
    "history_sigmoid = model_sigmoid.fit(X_train, y_train, epochs=30, batch_size=5, validation_split=0.1)"
   ]
  },
  {
   "cell_type": "code",
   "execution_count": 13,
   "id": "fda7330e",
   "metadata": {},
   "outputs": [
    {
     "name": "stdout",
     "output_type": "stream",
     "text": [
      "\u001b[1m1/1\u001b[0m \u001b[32m━━━━━━━━━━━━━━━━━━━━\u001b[0m\u001b[37m\u001b[0m \u001b[1m0s\u001b[0m 10ms/step - accuracy: 0.3333 - loss: 1.1630\n",
      "Precisión en el conjunto de prueba con activación sigmoid: 33.33%\n"
     ]
    }
   ],
   "source": [
    "# Evaluar el modelo en el conjunto de prueba\n",
    "loss_sigmoid, accuracy_sigmoid = model_sigmoid.evaluate(X_test, y_test)\n",
    "print(f'Precisión en el conjunto de prueba con activación sigmoid: {accuracy_sigmoid * 100:.2f}%')"
   ]
  },
  {
   "cell_type": "markdown",
   "id": "afc5d1e3",
   "metadata": {},
   "source": [
    "# Función de Activación Tanh"
   ]
  },
  {
   "cell_type": "code",
   "execution_count": 14,
   "id": "93457124",
   "metadata": {},
   "outputs": [],
   "source": [
    "def create_model_tanh():\n",
    "    model = Sequential()\n",
    "    model.add(Dense(10, input_dim=4, activation='tanh', kernel_regularizer=l2(0.01)))\n",
    "    model.add(Dropout(0.5))\n",
    "    model.add(Dense(10, activation='tanh', kernel_regularizer=l2(0.01)))\n",
    "    model.add(Dropout(0.5))\n",
    "    model.add(Dense(10, activation='tanh', kernel_regularizer=l2(0.01)))\n",
    "    model.add(Dropout(0.5))\n",
    "    model.add(Dense(3, activation='softmax'))\n",
    "    model.compile(optimizer='adam', loss='categorical_crossentropy', metrics=['accuracy'])\n",
    "    return model"
   ]
  },
  {
   "cell_type": "code",
   "execution_count": 15,
   "id": "55f72580",
   "metadata": {},
   "outputs": [
    {
     "name": "stdout",
     "output_type": "stream",
     "text": [
      "Epoch 1/30\n",
      "\u001b[1m22/22\u001b[0m \u001b[32m━━━━━━━━━━━━━━━━━━━━\u001b[0m\u001b[37m\u001b[0m \u001b[1m2s\u001b[0m 15ms/step - accuracy: 0.1516 - loss: 1.8050 - val_accuracy: 0.0833 - val_loss: 1.4565\n",
      "Epoch 2/30\n",
      "\u001b[1m22/22\u001b[0m \u001b[32m━━━━━━━━━━━━━━━━━━━━\u001b[0m\u001b[37m\u001b[0m \u001b[1m0s\u001b[0m 3ms/step - accuracy: 0.3332 - loss: 1.6157 - val_accuracy: 0.1667 - val_loss: 1.4404\n",
      "Epoch 3/30\n",
      "\u001b[1m22/22\u001b[0m \u001b[32m━━━━━━━━━━━━━━━━━━━━\u001b[0m\u001b[37m\u001b[0m \u001b[1m0s\u001b[0m 3ms/step - accuracy: 0.3965 - loss: 1.3934 - val_accuracy: 0.1667 - val_loss: 1.4245\n",
      "Epoch 4/30\n",
      "\u001b[1m22/22\u001b[0m \u001b[32m━━━━━━━━━━━━━━━━━━━━\u001b[0m\u001b[37m\u001b[0m \u001b[1m0s\u001b[0m 2ms/step - accuracy: 0.4045 - loss: 1.3776 - val_accuracy: 0.1667 - val_loss: 1.3960\n",
      "Epoch 5/30\n",
      "\u001b[1m22/22\u001b[0m \u001b[32m━━━━━━━━━━━━━━━━━━━━\u001b[0m\u001b[37m\u001b[0m \u001b[1m0s\u001b[0m 3ms/step - accuracy: 0.3766 - loss: 1.4332 - val_accuracy: 0.1667 - val_loss: 1.3673\n",
      "Epoch 6/30\n",
      "\u001b[1m22/22\u001b[0m \u001b[32m━━━━━━━━━━━━━━━━━━━━\u001b[0m\u001b[37m\u001b[0m \u001b[1m0s\u001b[0m 2ms/step - accuracy: 0.3173 - loss: 1.5531 - val_accuracy: 0.1667 - val_loss: 1.3452\n",
      "Epoch 7/30\n",
      "\u001b[1m22/22\u001b[0m \u001b[32m━━━━━━━━━━━━━━━━━━━━\u001b[0m\u001b[37m\u001b[0m \u001b[1m0s\u001b[0m 3ms/step - accuracy: 0.2665 - loss: 1.5508 - val_accuracy: 0.1667 - val_loss: 1.3174\n",
      "Epoch 8/30\n",
      "\u001b[1m22/22\u001b[0m \u001b[32m━━━━━━━━━━━━━━━━━━━━\u001b[0m\u001b[37m\u001b[0m \u001b[1m0s\u001b[0m 3ms/step - accuracy: 0.3608 - loss: 1.4068 - val_accuracy: 0.1667 - val_loss: 1.2998\n",
      "Epoch 9/30\n",
      "\u001b[1m22/22\u001b[0m \u001b[32m━━━━━━━━━━━━━━━━━━━━\u001b[0m\u001b[37m\u001b[0m \u001b[1m0s\u001b[0m 3ms/step - accuracy: 0.3920 - loss: 1.3821 - val_accuracy: 0.1667 - val_loss: 1.2877\n",
      "Epoch 10/30\n",
      "\u001b[1m22/22\u001b[0m \u001b[32m━━━━━━━━━━━━━━━━━━━━\u001b[0m\u001b[37m\u001b[0m \u001b[1m0s\u001b[0m 3ms/step - accuracy: 0.4139 - loss: 1.3838 - val_accuracy: 0.1667 - val_loss: 1.2802\n",
      "Epoch 11/30\n",
      "\u001b[1m22/22\u001b[0m \u001b[32m━━━━━━━━━━━━━━━━━━━━\u001b[0m\u001b[37m\u001b[0m \u001b[1m0s\u001b[0m 3ms/step - accuracy: 0.3617 - loss: 1.4028 - val_accuracy: 0.1667 - val_loss: 1.2656\n",
      "Epoch 12/30\n",
      "\u001b[1m22/22\u001b[0m \u001b[32m━━━━━━━━━━━━━━━━━━━━\u001b[0m\u001b[37m\u001b[0m \u001b[1m0s\u001b[0m 4ms/step - accuracy: 0.2626 - loss: 1.4608 - val_accuracy: 0.1667 - val_loss: 1.2458\n",
      "Epoch 13/30\n",
      "\u001b[1m22/22\u001b[0m \u001b[32m━━━━━━━━━━━━━━━━━━━━\u001b[0m\u001b[37m\u001b[0m \u001b[1m0s\u001b[0m 3ms/step - accuracy: 0.3721 - loss: 1.3217 - val_accuracy: 0.5000 - val_loss: 1.2128\n",
      "Epoch 14/30\n",
      "\u001b[1m22/22\u001b[0m \u001b[32m━━━━━━━━━━━━━━━━━━━━\u001b[0m\u001b[37m\u001b[0m \u001b[1m0s\u001b[0m 3ms/step - accuracy: 0.5364 - loss: 1.2089 - val_accuracy: 0.5833 - val_loss: 1.1767\n",
      "Epoch 15/30\n",
      "\u001b[1m22/22\u001b[0m \u001b[32m━━━━━━━━━━━━━━━━━━━━\u001b[0m\u001b[37m\u001b[0m \u001b[1m0s\u001b[0m 3ms/step - accuracy: 0.3558 - loss: 1.3847 - val_accuracy: 0.5833 - val_loss: 1.1477\n",
      "Epoch 16/30\n",
      "\u001b[1m22/22\u001b[0m \u001b[32m━━━━━━━━━━━━━━━━━━━━\u001b[0m\u001b[37m\u001b[0m \u001b[1m0s\u001b[0m 3ms/step - accuracy: 0.3860 - loss: 1.3367 - val_accuracy: 0.6667 - val_loss: 1.1233\n",
      "Epoch 17/30\n",
      "\u001b[1m22/22\u001b[0m \u001b[32m━━━━━━━━━━━━━━━━━━━━\u001b[0m\u001b[37m\u001b[0m \u001b[1m0s\u001b[0m 3ms/step - accuracy: 0.5124 - loss: 1.2263 - val_accuracy: 0.9167 - val_loss: 1.1071\n",
      "Epoch 18/30\n",
      "\u001b[1m22/22\u001b[0m \u001b[32m━━━━━━━━━━━━━━━━━━━━\u001b[0m\u001b[37m\u001b[0m \u001b[1m0s\u001b[0m 3ms/step - accuracy: 0.3501 - loss: 1.3831 - val_accuracy: 0.8333 - val_loss: 1.0881\n",
      "Epoch 19/30\n",
      "\u001b[1m22/22\u001b[0m \u001b[32m━━━━━━━━━━━━━━━━━━━━\u001b[0m\u001b[37m\u001b[0m \u001b[1m0s\u001b[0m 3ms/step - accuracy: 0.5062 - loss: 1.1720 - val_accuracy: 0.9167 - val_loss: 1.0589\n",
      "Epoch 20/30\n",
      "\u001b[1m22/22\u001b[0m \u001b[32m━━━━━━━━━━━━━━━━━━━━\u001b[0m\u001b[37m\u001b[0m \u001b[1m0s\u001b[0m 3ms/step - accuracy: 0.5019 - loss: 1.1705 - val_accuracy: 0.7500 - val_loss: 1.0422\n",
      "Epoch 21/30\n",
      "\u001b[1m22/22\u001b[0m \u001b[32m━━━━━━━━━━━━━━━━━━━━\u001b[0m\u001b[37m\u001b[0m \u001b[1m0s\u001b[0m 3ms/step - accuracy: 0.4860 - loss: 1.1240 - val_accuracy: 0.5833 - val_loss: 1.0251\n",
      "Epoch 22/30\n",
      "\u001b[1m22/22\u001b[0m \u001b[32m━━━━━━━━━━━━━━━━━━━━\u001b[0m\u001b[37m\u001b[0m \u001b[1m0s\u001b[0m 3ms/step - accuracy: 0.4656 - loss: 1.1219 - val_accuracy: 0.7500 - val_loss: 0.9882\n",
      "Epoch 23/30\n",
      "\u001b[1m22/22\u001b[0m \u001b[32m━━━━━━━━━━━━━━━━━━━━\u001b[0m\u001b[37m\u001b[0m \u001b[1m0s\u001b[0m 3ms/step - accuracy: 0.4777 - loss: 1.2106 - val_accuracy: 1.0000 - val_loss: 0.9559\n",
      "Epoch 24/30\n",
      "\u001b[1m22/22\u001b[0m \u001b[32m━━━━━━━━━━━━━━━━━━━━\u001b[0m\u001b[37m\u001b[0m \u001b[1m0s\u001b[0m 3ms/step - accuracy: 0.5392 - loss: 1.0884 - val_accuracy: 1.0000 - val_loss: 0.9289\n",
      "Epoch 25/30\n",
      "\u001b[1m22/22\u001b[0m \u001b[32m━━━━━━━━━━━━━━━━━━━━\u001b[0m\u001b[37m\u001b[0m \u001b[1m0s\u001b[0m 3ms/step - accuracy: 0.5659 - loss: 1.0656 - val_accuracy: 1.0000 - val_loss: 0.9058\n",
      "Epoch 26/30\n",
      "\u001b[1m22/22\u001b[0m \u001b[32m━━━━━━━━━━━━━━━━━━━━\u001b[0m\u001b[37m\u001b[0m \u001b[1m0s\u001b[0m 3ms/step - accuracy: 0.5440 - loss: 1.0310 - val_accuracy: 0.9167 - val_loss: 0.8854\n",
      "Epoch 27/30\n",
      "\u001b[1m22/22\u001b[0m \u001b[32m━━━━━━━━━━━━━━━━━━━━\u001b[0m\u001b[37m\u001b[0m \u001b[1m0s\u001b[0m 3ms/step - accuracy: 0.5735 - loss: 1.1133 - val_accuracy: 0.5833 - val_loss: 0.8537\n",
      "Epoch 28/30\n",
      "\u001b[1m22/22\u001b[0m \u001b[32m━━━━━━━━━━━━━━━━━━━━\u001b[0m\u001b[37m\u001b[0m \u001b[1m0s\u001b[0m 3ms/step - accuracy: 0.6209 - loss: 0.9398 - val_accuracy: 0.5833 - val_loss: 0.8340\n",
      "Epoch 29/30\n",
      "\u001b[1m22/22\u001b[0m \u001b[32m━━━━━━━━━━━━━━━━━━━━\u001b[0m\u001b[37m\u001b[0m \u001b[1m0s\u001b[0m 3ms/step - accuracy: 0.5743 - loss: 0.9890 - val_accuracy: 0.5833 - val_loss: 0.8185\n",
      "Epoch 30/30\n",
      "\u001b[1m22/22\u001b[0m \u001b[32m━━━━━━━━━━━━━━━━━━━━\u001b[0m\u001b[37m\u001b[0m \u001b[1m0s\u001b[0m 3ms/step - accuracy: 0.5353 - loss: 0.9400 - val_accuracy: 0.5833 - val_loss: 0.8048\n"
     ]
    }
   ],
   "source": [
    "# Entrenar el modelo con función de activación tanh\n",
    "model_tanh = create_model_tanh()\n",
    "history_tanh = model_tanh.fit(X_train, y_train, epochs=30, batch_size=5, validation_split=0.1)"
   ]
  },
  {
   "cell_type": "code",
   "execution_count": 16,
   "id": "230a84bc",
   "metadata": {},
   "outputs": [
    {
     "name": "stdout",
     "output_type": "stream",
     "text": [
      "\u001b[1m1/1\u001b[0m \u001b[32m━━━━━━━━━━━━━━━━━━━━\u001b[0m\u001b[37m\u001b[0m \u001b[1m0s\u001b[0m 25ms/step - accuracy: 0.7000 - loss: 0.7171\n",
      "Precisión en el conjunto de prueba con activación tanh: 70.00%\n"
     ]
    }
   ],
   "source": [
    "# Evaluar el modelo en el conjunto de prueba\n",
    "loss_tanh, accuracy_tanh = model_tanh.evaluate(X_test, y_test)\n",
    "print(f'Precisión en el conjunto de prueba con activación tanh: {accuracy_tanh * 100:.2f}%')"
   ]
  },
  {
   "cell_type": "markdown",
   "id": "adc26329",
   "metadata": {},
   "source": [
    "# Resultados y conclusiones"
   ]
  },
  {
   "cell_type": "markdown",
   "id": "851bfbed",
   "metadata": {},
   "source": [
    "Con la activación sigmoid, la precisión en el conjunto de prueba es del 33.33% y la pérdida en el conjunto de prueba es de 1.1630."
   ]
  },
  {
   "cell_type": "markdown",
   "id": "2bae468a",
   "metadata": {},
   "source": [
    "Con la activación tanh, la precisión en el conjunto de prueba es del 70.00% y la pérdida en el conjunto de prueba es de 0.7171."
   ]
  },
  {
   "cell_type": "markdown",
   "id": "a0f2fc0d",
   "metadata": {},
   "source": [
    "¿Cómo afectan las diferentes funciones de activación en las capas ocultas a la precisión y la pérdida del modelo durante el entrenamiento y la validación?"
   ]
  },
  {
   "cell_type": "markdown",
   "id": "8f306e48",
   "metadata": {},
   "source": [
    "En cuanto a la precisión, la función Sigmoid produce una salida en el rango (0, 1), lo que puede ser útil para problemas de clasificación binaria. Sin embargo, en problemas de clasificación multiclase como el conjunto de datos de Iris, puede llevar a problemas de saturación de gradientes, especialmente en capas más profundas. Esto puede resultar en una convergencia más lenta y posiblemente en un rendimiento inferior en términos de precisión.\n",
    "\n",
    "La función Tanh produce una salida en el rango (-1, 1), pero es simétrica alrededor de cero, lo que puede ayudar a evitar algunos problemas de saturación de gradientes. En comparación con sigmoid, tanh puede conducir a una convergencia más rápida y, en algunos casos, a una mejor precisión."
   ]
  },
  {
   "cell_type": "markdown",
   "id": "0edcebe9",
   "metadata": {},
   "source": [
    "En cuanto a la pérdida, La función de activación sigmoid puede contribuir a un problema conocido como \"desvanecimiento del gradiente\", especialmente en capas más profundas. Esto puede hacer que la convergencia sea más lenta y provocar que el modelo se quede atascado en mínimos locales subóptimos. En consecuencia, la pérdida en el conjunto de validación puede ser relativamente alta.\n",
    "\n",
    "Al igual que con sigmoid, tanh puede experimentar el problema del \"desvanecimiento del gradiente\", pero en menor medida debido a su simetría alrededor de cero. Esto puede resultar en una pérdida más baja tanto en el conjunto de entrenamiento como en el de validación en comparación con sigmoid.\n"
   ]
  },
  {
   "cell_type": "code",
   "execution_count": null,
   "id": "7ec17d1c",
   "metadata": {},
   "outputs": [],
   "source": []
  }
 ],
 "metadata": {
  "kernelspec": {
   "display_name": "Python 3 (ipykernel)",
   "language": "python",
   "name": "python3"
  },
  "language_info": {
   "codemirror_mode": {
    "name": "ipython",
    "version": 3
   },
   "file_extension": ".py",
   "mimetype": "text/x-python",
   "name": "python",
   "nbconvert_exporter": "python",
   "pygments_lexer": "ipython3",
   "version": "3.11.4"
  }
 },
 "nbformat": 4,
 "nbformat_minor": 5
}
